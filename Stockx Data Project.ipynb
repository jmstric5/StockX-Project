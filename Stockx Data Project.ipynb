{
 "cells": [
  {
   "cell_type": "markdown",
   "metadata": {},
   "source": [
    "# StockX Data Project: Attempting to Predict Sale Prices"
   ]
  },
  {
   "cell_type": "markdown",
   "metadata": {},
   "source": [
    "This project was inspired by my personal interest in the sneaker game, as well as the work conducted by Sameen Salam in his project last year at the Institute for Advanced Analytics. Using this inspiration, I hoped to find some significant results and practice my modeling abilities through this project.\n",
    "\n",
    "The main sections of this notebook include exploring the data, engineering new features, different modeling approaches, and final conclusions/results."
   ]
  },
  {
   "cell_type": "markdown",
   "metadata": {},
   "source": [
    "# 1. Exploratory Data Analysis"
   ]
  },
  {
   "cell_type": "markdown",
   "metadata": {},
   "source": [
    "We first need to pull in our stocks data set and import any libraries needed for the analysis. The data consists of a random sample of all Off-White and Yeezy 350 sales between the end of 2017 to beginning of 2019. You can view the full details about the 2019 StockX Data Challenge at the link here: https://stockx.com/news/the-2019-data-contest/"
   ]
  },
  {
   "cell_type": "code",
   "execution_count": 63,
   "metadata": {},
   "outputs": [],
   "source": [
    "# Importing the necessary libraries for the entire file\n",
    "import pandas as pd\n",
    "import os\n",
    "import matplotlib.pyplot as plt\n",
    "import seaborn as sns\n",
    "import statsmodels.api as sm\n",
    "import numpy as np\n",
    "from scipy import stats\n",
    "from sklearn.model_selection import train_test_split\n",
    "from sklearn import linear_model\n",
    "from sklearn.ensemble import RandomForestRegressor\n",
    "import regressors\n",
    "from regressors import stats as reg\n",
    "import requests\n",
    "\n",
    "# Direct to the folder with the files for importing\n",
    "os.chdir(\"C:\\\\Users\\\\jorda\\\\OneDrive\\\\Documents\\\\IAA Files and Documents\\\\Side Project Files\\\\StockX\")"
   ]
  },
  {
   "cell_type": "code",
   "execution_count": 64,
   "metadata": {},
   "outputs": [],
   "source": [
    "# Load in our data set\n",
    "shoes = pd.read_csv(\"StockX-Data-Contest-2019-3.csv\")"
   ]
  },
  {
   "cell_type": "code",
   "execution_count": 65,
   "metadata": {},
   "outputs": [
    {
     "data": {
      "text/html": [
       "<div>\n",
       "<style scoped>\n",
       "    .dataframe tbody tr th:only-of-type {\n",
       "        vertical-align: middle;\n",
       "    }\n",
       "\n",
       "    .dataframe tbody tr th {\n",
       "        vertical-align: top;\n",
       "    }\n",
       "\n",
       "    .dataframe thead th {\n",
       "        text-align: right;\n",
       "    }\n",
       "</style>\n",
       "<table border=\"1\" class=\"dataframe\">\n",
       "  <thead>\n",
       "    <tr style=\"text-align: right;\">\n",
       "      <th></th>\n",
       "      <th>Order Date</th>\n",
       "      <th>Brand</th>\n",
       "      <th>Sneaker Name</th>\n",
       "      <th>Sale Price</th>\n",
       "      <th>Retail Price</th>\n",
       "      <th>Release Date</th>\n",
       "      <th>Shoe Size</th>\n",
       "      <th>Buyer Region</th>\n",
       "    </tr>\n",
       "  </thead>\n",
       "  <tbody>\n",
       "    <tr>\n",
       "      <th>0</th>\n",
       "      <td>9/1/17</td>\n",
       "      <td>Yeezy</td>\n",
       "      <td>Adidas-Yeezy-Boost-350-Low-V2-Beluga</td>\n",
       "      <td>$1,097</td>\n",
       "      <td>$220</td>\n",
       "      <td>9/24/16</td>\n",
       "      <td>11.0</td>\n",
       "      <td>California</td>\n",
       "    </tr>\n",
       "    <tr>\n",
       "      <th>1</th>\n",
       "      <td>9/1/17</td>\n",
       "      <td>Yeezy</td>\n",
       "      <td>Adidas-Yeezy-Boost-350-V2-Core-Black-Copper</td>\n",
       "      <td>$685</td>\n",
       "      <td>$220</td>\n",
       "      <td>11/23/16</td>\n",
       "      <td>11.0</td>\n",
       "      <td>California</td>\n",
       "    </tr>\n",
       "    <tr>\n",
       "      <th>2</th>\n",
       "      <td>9/1/17</td>\n",
       "      <td>Yeezy</td>\n",
       "      <td>Adidas-Yeezy-Boost-350-V2-Core-Black-Green</td>\n",
       "      <td>$690</td>\n",
       "      <td>$220</td>\n",
       "      <td>11/23/16</td>\n",
       "      <td>11.0</td>\n",
       "      <td>California</td>\n",
       "    </tr>\n",
       "    <tr>\n",
       "      <th>3</th>\n",
       "      <td>9/1/17</td>\n",
       "      <td>Yeezy</td>\n",
       "      <td>Adidas-Yeezy-Boost-350-V2-Core-Black-Red</td>\n",
       "      <td>$1,075</td>\n",
       "      <td>$220</td>\n",
       "      <td>11/23/16</td>\n",
       "      <td>11.5</td>\n",
       "      <td>Kentucky</td>\n",
       "    </tr>\n",
       "    <tr>\n",
       "      <th>4</th>\n",
       "      <td>9/1/17</td>\n",
       "      <td>Yeezy</td>\n",
       "      <td>Adidas-Yeezy-Boost-350-V2-Core-Black-Red-2017</td>\n",
       "      <td>$828</td>\n",
       "      <td>$220</td>\n",
       "      <td>2/11/17</td>\n",
       "      <td>11.0</td>\n",
       "      <td>Rhode Island</td>\n",
       "    </tr>\n",
       "    <tr>\n",
       "      <th>5</th>\n",
       "      <td>9/1/17</td>\n",
       "      <td>Yeezy</td>\n",
       "      <td>Adidas-Yeezy-Boost-350-V2-Core-Black-Red-2017</td>\n",
       "      <td>$798</td>\n",
       "      <td>$220</td>\n",
       "      <td>2/11/17</td>\n",
       "      <td>8.5</td>\n",
       "      <td>Michigan</td>\n",
       "    </tr>\n",
       "    <tr>\n",
       "      <th>6</th>\n",
       "      <td>9/1/17</td>\n",
       "      <td>Yeezy</td>\n",
       "      <td>Adidas-Yeezy-Boost-350-V2-Core-Black-White</td>\n",
       "      <td>$784</td>\n",
       "      <td>$220</td>\n",
       "      <td>12/17/16</td>\n",
       "      <td>11.0</td>\n",
       "      <td>California</td>\n",
       "    </tr>\n",
       "    <tr>\n",
       "      <th>7</th>\n",
       "      <td>9/1/17</td>\n",
       "      <td>Yeezy</td>\n",
       "      <td>Adidas-Yeezy-Boost-350-V2-Cream-White</td>\n",
       "      <td>$460</td>\n",
       "      <td>$220</td>\n",
       "      <td>4/29/17</td>\n",
       "      <td>10.0</td>\n",
       "      <td>New York</td>\n",
       "    </tr>\n",
       "    <tr>\n",
       "      <th>8</th>\n",
       "      <td>9/1/17</td>\n",
       "      <td>Yeezy</td>\n",
       "      <td>Adidas-Yeezy-Boost-350-V2-Cream-White</td>\n",
       "      <td>$465</td>\n",
       "      <td>$220</td>\n",
       "      <td>4/29/17</td>\n",
       "      <td>11.0</td>\n",
       "      <td>Kansas</td>\n",
       "    </tr>\n",
       "    <tr>\n",
       "      <th>9</th>\n",
       "      <td>9/1/17</td>\n",
       "      <td>Yeezy</td>\n",
       "      <td>Adidas-Yeezy-Boost-350-V2-Cream-White</td>\n",
       "      <td>$465</td>\n",
       "      <td>$220</td>\n",
       "      <td>4/29/17</td>\n",
       "      <td>11.0</td>\n",
       "      <td>Florida</td>\n",
       "    </tr>\n",
       "  </tbody>\n",
       "</table>\n",
       "</div>"
      ],
      "text/plain": [
       "  Order Date   Brand                                   Sneaker Name  \\\n",
       "0     9/1/17   Yeezy           Adidas-Yeezy-Boost-350-Low-V2-Beluga   \n",
       "1     9/1/17   Yeezy    Adidas-Yeezy-Boost-350-V2-Core-Black-Copper   \n",
       "2     9/1/17   Yeezy     Adidas-Yeezy-Boost-350-V2-Core-Black-Green   \n",
       "3     9/1/17   Yeezy       Adidas-Yeezy-Boost-350-V2-Core-Black-Red   \n",
       "4     9/1/17   Yeezy  Adidas-Yeezy-Boost-350-V2-Core-Black-Red-2017   \n",
       "5     9/1/17   Yeezy  Adidas-Yeezy-Boost-350-V2-Core-Black-Red-2017   \n",
       "6     9/1/17   Yeezy     Adidas-Yeezy-Boost-350-V2-Core-Black-White   \n",
       "7     9/1/17   Yeezy          Adidas-Yeezy-Boost-350-V2-Cream-White   \n",
       "8     9/1/17   Yeezy          Adidas-Yeezy-Boost-350-V2-Cream-White   \n",
       "9     9/1/17   Yeezy          Adidas-Yeezy-Boost-350-V2-Cream-White   \n",
       "\n",
       "  Sale Price Retail Price Release Date  Shoe Size  Buyer Region  \n",
       "0     $1,097         $220      9/24/16       11.0    California  \n",
       "1       $685         $220     11/23/16       11.0    California  \n",
       "2       $690         $220     11/23/16       11.0    California  \n",
       "3     $1,075         $220     11/23/16       11.5      Kentucky  \n",
       "4       $828         $220      2/11/17       11.0  Rhode Island  \n",
       "5       $798         $220      2/11/17        8.5      Michigan  \n",
       "6       $784         $220     12/17/16       11.0    California  \n",
       "7       $460         $220      4/29/17       10.0      New York  \n",
       "8       $465         $220      4/29/17       11.0        Kansas  \n",
       "9       $465         $220      4/29/17       11.0       Florida  "
      ]
     },
     "execution_count": 65,
     "metadata": {},
     "output_type": "execute_result"
    }
   ],
   "source": [
    "# Take a glance at our data columns\n",
    "shoes.head(n=10)"
   ]
  },
  {
   "cell_type": "markdown",
   "metadata": {},
   "source": [
    "Our data currently includes 8 columns:\n",
    "    - the date the shoe was ordered\n",
    "    - the brand of the shoe\n",
    "    - the actual name of the shoe\n",
    "    - the sale price aka the price the shoe resold for\n",
    "    - the retail price aka the first price for the shoe when it came out\n",
    "    - the date the shoe was released\n",
    "    - the size of the shoe\n",
    "    - the state that the buyer bought the shoe from"
   ]
  },
  {
   "cell_type": "code",
   "execution_count": 66,
   "metadata": {},
   "outputs": [],
   "source": [
    "# Cleaning the data to have our dollar values to be numeric\n",
    "shoes[shoes.columns[3:5]] = shoes[shoes.columns[3:5]].replace('[\\$,]', '', regex=True).astype(float)\n",
    "\n",
    "# Transforming date variable to date time values\n",
    "shoes['Order Date'] = pd.to_datetime(shoes['Order Date'])\n",
    "shoes['Release Date'] = pd.to_datetime(shoes['Release Date'])"
   ]
  },
  {
   "cell_type": "code",
   "execution_count": 67,
   "metadata": {},
   "outputs": [
    {
     "data": {
      "text/plain": [
       "Order Date      0\n",
       "Brand           0\n",
       "Sneaker Name    0\n",
       "Sale Price      0\n",
       "Retail Price    0\n",
       "Release Date    0\n",
       "Shoe Size       0\n",
       "Buyer Region    0\n",
       "dtype: int64"
      ]
     },
     "execution_count": 67,
     "metadata": {},
     "output_type": "execute_result"
    }
   ],
   "source": [
    "# Check for missing values\n",
    "shoes.isnull().sum()"
   ]
  },
  {
   "cell_type": "markdown",
   "metadata": {},
   "source": [
    "Luckily, we have no missing values in our data"
   ]
  },
  {
   "cell_type": "code",
   "execution_count": 68,
   "metadata": {},
   "outputs": [
    {
     "data": {
      "text/html": [
       "<div>\n",
       "<style scoped>\n",
       "    .dataframe tbody tr th:only-of-type {\n",
       "        vertical-align: middle;\n",
       "    }\n",
       "\n",
       "    .dataframe tbody tr th {\n",
       "        vertical-align: top;\n",
       "    }\n",
       "\n",
       "    .dataframe thead th {\n",
       "        text-align: right;\n",
       "    }\n",
       "</style>\n",
       "<table border=\"1\" class=\"dataframe\">\n",
       "  <thead>\n",
       "    <tr style=\"text-align: right;\">\n",
       "      <th></th>\n",
       "      <th>Sale Price</th>\n",
       "      <th>Retail Price</th>\n",
       "      <th>Shoe Size</th>\n",
       "    </tr>\n",
       "  </thead>\n",
       "  <tbody>\n",
       "    <tr>\n",
       "      <th>count</th>\n",
       "      <td>99956.000000</td>\n",
       "      <td>99956.00000</td>\n",
       "      <td>99956.000000</td>\n",
       "    </tr>\n",
       "    <tr>\n",
       "      <th>mean</th>\n",
       "      <td>446.634719</td>\n",
       "      <td>208.61359</td>\n",
       "      <td>9.344181</td>\n",
       "    </tr>\n",
       "    <tr>\n",
       "      <th>std</th>\n",
       "      <td>255.982969</td>\n",
       "      <td>25.20001</td>\n",
       "      <td>2.329588</td>\n",
       "    </tr>\n",
       "    <tr>\n",
       "      <th>min</th>\n",
       "      <td>186.000000</td>\n",
       "      <td>130.00000</td>\n",
       "      <td>3.500000</td>\n",
       "    </tr>\n",
       "    <tr>\n",
       "      <th>25%</th>\n",
       "      <td>275.000000</td>\n",
       "      <td>220.00000</td>\n",
       "      <td>8.000000</td>\n",
       "    </tr>\n",
       "    <tr>\n",
       "      <th>50%</th>\n",
       "      <td>370.000000</td>\n",
       "      <td>220.00000</td>\n",
       "      <td>9.500000</td>\n",
       "    </tr>\n",
       "    <tr>\n",
       "      <th>75%</th>\n",
       "      <td>540.000000</td>\n",
       "      <td>220.00000</td>\n",
       "      <td>11.000000</td>\n",
       "    </tr>\n",
       "    <tr>\n",
       "      <th>max</th>\n",
       "      <td>4050.000000</td>\n",
       "      <td>250.00000</td>\n",
       "      <td>17.000000</td>\n",
       "    </tr>\n",
       "  </tbody>\n",
       "</table>\n",
       "</div>"
      ],
      "text/plain": [
       "         Sale Price  Retail Price     Shoe Size\n",
       "count  99956.000000   99956.00000  99956.000000\n",
       "mean     446.634719     208.61359      9.344181\n",
       "std      255.982969      25.20001      2.329588\n",
       "min      186.000000     130.00000      3.500000\n",
       "25%      275.000000     220.00000      8.000000\n",
       "50%      370.000000     220.00000      9.500000\n",
       "75%      540.000000     220.00000     11.000000\n",
       "max     4050.000000     250.00000     17.000000"
      ]
     },
     "execution_count": 68,
     "metadata": {},
     "output_type": "execute_result"
    }
   ],
   "source": [
    "# Check the summary stats for each column\n",
    "shoes.describe()"
   ]
  },
  {
   "cell_type": "markdown",
   "metadata": {},
   "source": [
    "We only have 3 numeric values that generate these summary stats, but it helps give us a better idea of the range of values these columns take on"
   ]
  },
  {
   "cell_type": "code",
   "execution_count": 69,
   "metadata": {},
   "outputs": [
    {
     "data": {
      "text/plain": [
       "Order Date      datetime64[ns]\n",
       "Brand                   object\n",
       "Sneaker Name            object\n",
       "Sale Price             float64\n",
       "Retail Price           float64\n",
       "Release Date    datetime64[ns]\n",
       "Shoe Size              float64\n",
       "Buyer Region            object\n",
       "dtype: object"
      ]
     },
     "execution_count": 69,
     "metadata": {},
     "output_type": "execute_result"
    }
   ],
   "source": [
    "# Checking the types of our data\n",
    "shoes.dtypes"
   ]
  },
  {
   "cell_type": "markdown",
   "metadata": {},
   "source": [
    "All of our data types look good now for what the column should represent"
   ]
  },
  {
   "cell_type": "code",
   "execution_count": 70,
   "metadata": {},
   "outputs": [
    {
     "data": {
      "text/plain": [
       "Text(2000, 20000, '$\\\\mu=446, std=255$')"
      ]
     },
     "execution_count": 70,
     "metadata": {},
     "output_type": "execute_result"
    },
    {
     "data": {
      "image/png": "[encoded data removed]",
      "text/plain": [
       "<Figure size 432x288 with 1 Axes>"
      ]
     },
     "metadata": {
      "needs_background": "light"
     },
     "output_type": "display_data"
    }
   ],
   "source": [
    "# Plotting some distributions of our target variable\n",
    "shoes['Sale Price'].hist(bins=20, grid=False, xlabelsize=12, ylabelsize=12, color='green')\n",
    "plt.xlabel(\"Sale Price\", fontsize=15)\n",
    "plt.ylabel(\"Frequency\",fontsize=15)\n",
    "plt.title(\"Histogram of Our Target: Sale Price\", fontsize=15)\n",
    "plt.text(2000, 20000, r'$\\mu=446, std=255$')"
   ]
  },
  {
   "cell_type": "markdown",
   "metadata": {},
   "source": [
    "Based on our histogram plot, we can see our target is right skewed, meaning we have a higher number of smaller sales prices and fewer number of larger sales prices. This will probably effect our assumption of normality when we conduct a linear regression down the line."
   ]
  },
  {
   "cell_type": "code",
   "execution_count": 71,
   "metadata": {},
   "outputs": [
    {
     "data": {
      "text/plain": [
       "Text(0, 0.5, 'Frequency')"
      ]
     },
     "execution_count": 71,
     "metadata": {},
     "output_type": "execute_result"
    },
    {
     "data": {
      "image/png": "[encoded data removed]",
      "text/plain": [
       "<Figure size 432x288 with 1 Axes>"
      ]
     },
     "metadata": {
      "needs_background": "light"
     },
     "output_type": "display_data"
    }
   ],
   "source": [
    "# Plotting some distributions of shoe sizes\n",
    "plt.hist(shoes['Shoe Size'], bins=20, color='grey')\n",
    "plt.title('Histogram of Shoe Sizes', fontsize=15)\n",
    "plt.xlabel('Shoe Size', fontsize=15)\n",
    "plt.ylabel('Frequency', fontsize=15)"
   ]
  },
  {
   "cell_type": "markdown",
   "metadata": {},
   "source": [
    "From our histogram, we can see that in our sample of data people are buying sizes 9-12 the most often, which confirms what we typically see when new shoes come out"
   ]
  },
  {
   "cell_type": "code",
   "execution_count": 72,
   "metadata": {},
   "outputs": [
    {
     "data": {
      "text/plain": [
       "Text(0, 0.5, 'Sale Price')"
      ]
     },
     "execution_count": 72,
     "metadata": {},
     "output_type": "execute_result"
    },
    {
     "data": {
      "image/png": "[encoded data removed]",
      "text/plain": [
       "<Figure size 432x288 with 1 Axes>"
      ]
     },
     "metadata": {
      "needs_background": "light"
     },
     "output_type": "display_data"
    }
   ],
   "source": [
    "# Plotting the change over time of sale prices\n",
    "plt.plot(shoes['Order Date'].sub(shoes['Release Date'], axis=0)/np.timedelta64('1','D') , shoes['Sale Price'], color='green')\n",
    "plt.title('Change in Sale Price Over Time', fontsize=15)\n",
    "plt.xlabel('Days from Release Date', fontsize=15)\n",
    "plt.ylabel('Sale Price', fontsize=15)"
   ]
  },
  {
   "cell_type": "markdown",
   "metadata": {},
   "source": [
    "Not the prettiest chart, but this allows us to see whether or not shoes are decreasing in sale price as the time from when they were released increases. We can see here that it does trend slightly up as you go up until about 2 years, and then it begins to decrease."
   ]
  },
  {
   "cell_type": "markdown",
   "metadata": {},
   "source": [
    "## 2. Feature Engineering"
   ]
  },
  {
   "cell_type": "code",
   "execution_count": 73,
   "metadata": {},
   "outputs": [],
   "source": [
    "# Feature engineering variables that I think may be predictive of sale price\n",
    "shoes['Price Difference'] = shoes['Sale Price'] - shoes['Retail Price']\n",
    "\n",
    "shoes['Price_Ratio'] = shoes['Sale Price'] / shoes['Retail Price']\n",
    "\n",
    "shoes['Difference_in_Date'] = shoes['Order Date'].sub(shoes['Release Date'], axis=0)/np.timedelta64('1','D') \n",
    "\n",
    "shoes['Order_Day'] = shoes['Order Date'].dt.day_name()\n",
    "\n",
    "shoes['Release_Day'] = shoes['Release Date'].dt.day_name()\n",
    "\n",
    "shoes['Order Month'] = shoes['Order Date'].dt.month_name()\n",
    "\n",
    "shoes['Release Month'] = shoes['Release Date'].dt.month_name()\n",
    "\n",
    "shoes[\"Color_Black\"] = shoes['Sneaker Name'].apply(lambda x : 1 if 'Black' in x.split(\"-\") else 0)\n",
    "\n",
    "shoes[\"Color_Blue\"] = shoes['Sneaker Name'].apply(lambda x : 1 if 'Blue' in x.split(\"-\") else 0)\n",
    "\n",
    "shoes[\"Yeezy_Boost350\"] = shoes['Sneaker Name'].apply(lambda x : 1 if 'Boost' in x.split(\"-\") else 0)\n",
    "\n",
    "shoes[\"Air_Max\"] = shoes['Sneaker Name'].apply(lambda x : 1 if 'Max' in x.split(\"-\") else 0)\n",
    "\n",
    "shoes[\"Presto\"] = shoes['Sneaker Name'].apply(lambda x : 1 if 'Presto' in x.split(\"-\") else 0)\n",
    "\n",
    "shoes[\"Zoom_Fly\"] = shoes['Sneaker Name'].apply(lambda x : 1 if 'Zoom' in x.split(\"-\") else 0)\n",
    "\n",
    "shoes[\"Blazer\"] = shoes['Sneaker Name'].apply(lambda x : 1 if 'Blazer' in x.split(\"-\") else 0)\n",
    "\n",
    "shoes[\"Air_Force\"] = shoes['Sneaker Name'].apply(lambda x : 1 if 'Force' in x.split(\"-\") else 0)\n",
    "\n",
    "shoes[\"Jordan_1\"] = shoes['Sneaker Name'].apply(lambda x : 1 if 'Jordan' in x.split(\"-\") else 0)\n",
    "\n",
    "shoes[\"Yeezy_V2\"] = shoes['Sneaker Name'].apply(lambda x : 1 if 'V2' in x.split(\"-\") else 0)"
   ]
  },
  {
   "cell_type": "markdown",
   "metadata": {},
   "source": [
    "There are many additional features that can be engineered, however, I opted for these to start based on prior knowledge"
   ]
  },
  {
   "cell_type": "code",
   "execution_count": 74,
   "metadata": {},
   "outputs": [
    {
     "data": {
      "text/plain": [
       "Order Date            datetime64[ns]\n",
       "Brand                         object\n",
       "Sneaker Name                  object\n",
       "Sale Price                   float64\n",
       "Retail Price                 float64\n",
       "Release Date          datetime64[ns]\n",
       "Shoe Size                    float64\n",
       "Buyer Region                  object\n",
       "Price Difference             float64\n",
       "Price_Ratio                  float64\n",
       "Difference_in_Date           float64\n",
       "Order_Day                     object\n",
       "Release_Day                   object\n",
       "Order Month                   object\n",
       "Release Month                 object\n",
       "Color_Black                    int64\n",
       "Color_Blue                     int64\n",
       "Yeezy_Boost350                 int64\n",
       "Air_Max                        int64\n",
       "Presto                         int64\n",
       "Zoom_Fly                       int64\n",
       "Blazer                         int64\n",
       "Air_Force                      int64\n",
       "Jordan_1                       int64\n",
       "Yeezy_V2                       int64\n",
       "dtype: object"
      ]
     },
     "execution_count": 74,
     "metadata": {},
     "output_type": "execute_result"
    }
   ],
   "source": [
    "# Double check that our new columns are the right data type\n",
    "shoes.dtypes"
   ]
  },
  {
   "cell_type": "code",
   "execution_count": 75,
   "metadata": {},
   "outputs": [
    {
     "data": {
      "text/html": [
       "<div>\n",
       "<style scoped>\n",
       "    .dataframe tbody tr th:only-of-type {\n",
       "        vertical-align: middle;\n",
       "    }\n",
       "\n",
       "    .dataframe tbody tr th {\n",
       "        vertical-align: top;\n",
       "    }\n",
       "\n",
       "    .dataframe thead th {\n",
       "        text-align: right;\n",
       "    }\n",
       "</style>\n",
       "<table border=\"1\" class=\"dataframe\">\n",
       "  <thead>\n",
       "    <tr style=\"text-align: right;\">\n",
       "      <th></th>\n",
       "      <th>Sale Price</th>\n",
       "      <th>Retail Price</th>\n",
       "      <th>Shoe Size</th>\n",
       "      <th>Price Difference</th>\n",
       "      <th>Price_Ratio</th>\n",
       "      <th>Difference_in_Date</th>\n",
       "      <th>Color_Black</th>\n",
       "      <th>Color_Blue</th>\n",
       "      <th>Yeezy_Boost350</th>\n",
       "      <th>Air_Max</th>\n",
       "      <th>Presto</th>\n",
       "      <th>Zoom_Fly</th>\n",
       "      <th>Blazer</th>\n",
       "      <th>Air_Force</th>\n",
       "      <th>Jordan_1</th>\n",
       "      <th>Yeezy_V2</th>\n",
       "    </tr>\n",
       "  </thead>\n",
       "  <tbody>\n",
       "    <tr>\n",
       "      <th>count</th>\n",
       "      <td>99956.000000</td>\n",
       "      <td>99956.00000</td>\n",
       "      <td>99956.000000</td>\n",
       "      <td>99956.000000</td>\n",
       "      <td>99956.000000</td>\n",
       "      <td>99956.000000</td>\n",
       "      <td>99956.000000</td>\n",
       "      <td>99956.000000</td>\n",
       "      <td>99956.000000</td>\n",
       "      <td>99956.000000</td>\n",
       "      <td>99956.000000</td>\n",
       "      <td>99956.000000</td>\n",
       "      <td>99956.000000</td>\n",
       "      <td>99956.000000</td>\n",
       "      <td>99956.000000</td>\n",
       "      <td>99956.000000</td>\n",
       "    </tr>\n",
       "    <tr>\n",
       "      <th>mean</th>\n",
       "      <td>446.634719</td>\n",
       "      <td>208.61359</td>\n",
       "      <td>9.344181</td>\n",
       "      <td>238.021129</td>\n",
       "      <td>2.248245</td>\n",
       "      <td>183.708722</td>\n",
       "      <td>0.095692</td>\n",
       "      <td>0.139381</td>\n",
       "      <td>0.721938</td>\n",
       "      <td>0.033915</td>\n",
       "      <td>0.043649</td>\n",
       "      <td>0.043189</td>\n",
       "      <td>0.036236</td>\n",
       "      <td>0.024871</td>\n",
       "      <td>0.057055</td>\n",
       "      <td>0.717386</td>\n",
       "    </tr>\n",
       "    <tr>\n",
       "      <th>std</th>\n",
       "      <td>255.982969</td>\n",
       "      <td>25.20001</td>\n",
       "      <td>2.329588</td>\n",
       "      <td>266.133179</td>\n",
       "      <td>1.508563</td>\n",
       "      <td>232.354142</td>\n",
       "      <td>0.294170</td>\n",
       "      <td>0.346346</td>\n",
       "      <td>0.448047</td>\n",
       "      <td>0.181011</td>\n",
       "      <td>0.204314</td>\n",
       "      <td>0.203283</td>\n",
       "      <td>0.186878</td>\n",
       "      <td>0.155733</td>\n",
       "      <td>0.231949</td>\n",
       "      <td>0.450273</td>\n",
       "    </tr>\n",
       "    <tr>\n",
       "      <th>min</th>\n",
       "      <td>186.000000</td>\n",
       "      <td>130.00000</td>\n",
       "      <td>3.500000</td>\n",
       "      <td>-34.000000</td>\n",
       "      <td>0.845455</td>\n",
       "      <td>-69.000000</td>\n",
       "      <td>0.000000</td>\n",
       "      <td>0.000000</td>\n",
       "      <td>0.000000</td>\n",
       "      <td>0.000000</td>\n",
       "      <td>0.000000</td>\n",
       "      <td>0.000000</td>\n",
       "      <td>0.000000</td>\n",
       "      <td>0.000000</td>\n",
       "      <td>0.000000</td>\n",
       "      <td>0.000000</td>\n",
       "    </tr>\n",
       "    <tr>\n",
       "      <th>25%</th>\n",
       "      <td>275.000000</td>\n",
       "      <td>220.00000</td>\n",
       "      <td>8.000000</td>\n",
       "      <td>58.000000</td>\n",
       "      <td>1.263636</td>\n",
       "      <td>10.000000</td>\n",
       "      <td>0.000000</td>\n",
       "      <td>0.000000</td>\n",
       "      <td>0.000000</td>\n",
       "      <td>0.000000</td>\n",
       "      <td>0.000000</td>\n",
       "      <td>0.000000</td>\n",
       "      <td>0.000000</td>\n",
       "      <td>0.000000</td>\n",
       "      <td>0.000000</td>\n",
       "      <td>0.000000</td>\n",
       "    </tr>\n",
       "    <tr>\n",
       "      <th>50%</th>\n",
       "      <td>370.000000</td>\n",
       "      <td>220.00000</td>\n",
       "      <td>9.500000</td>\n",
       "      <td>154.000000</td>\n",
       "      <td>1.704545</td>\n",
       "      <td>56.000000</td>\n",
       "      <td>0.000000</td>\n",
       "      <td>0.000000</td>\n",
       "      <td>1.000000</td>\n",
       "      <td>0.000000</td>\n",
       "      <td>0.000000</td>\n",
       "      <td>0.000000</td>\n",
       "      <td>0.000000</td>\n",
       "      <td>0.000000</td>\n",
       "      <td>0.000000</td>\n",
       "      <td>1.000000</td>\n",
       "    </tr>\n",
       "    <tr>\n",
       "      <th>75%</th>\n",
       "      <td>540.000000</td>\n",
       "      <td>220.00000</td>\n",
       "      <td>11.000000</td>\n",
       "      <td>342.000000</td>\n",
       "      <td>2.613636</td>\n",
       "      <td>345.000000</td>\n",
       "      <td>0.000000</td>\n",
       "      <td>0.000000</td>\n",
       "      <td>1.000000</td>\n",
       "      <td>0.000000</td>\n",
       "      <td>0.000000</td>\n",
       "      <td>0.000000</td>\n",
       "      <td>0.000000</td>\n",
       "      <td>0.000000</td>\n",
       "      <td>0.000000</td>\n",
       "      <td>1.000000</td>\n",
       "    </tr>\n",
       "    <tr>\n",
       "      <th>max</th>\n",
       "      <td>4050.000000</td>\n",
       "      <td>250.00000</td>\n",
       "      <td>17.000000</td>\n",
       "      <td>3860.000000</td>\n",
       "      <td>21.315789</td>\n",
       "      <td>1321.000000</td>\n",
       "      <td>1.000000</td>\n",
       "      <td>1.000000</td>\n",
       "      <td>1.000000</td>\n",
       "      <td>1.000000</td>\n",
       "      <td>1.000000</td>\n",
       "      <td>1.000000</td>\n",
       "      <td>1.000000</td>\n",
       "      <td>1.000000</td>\n",
       "      <td>1.000000</td>\n",
       "      <td>1.000000</td>\n",
       "    </tr>\n",
       "  </tbody>\n",
       "</table>\n",
       "</div>"
      ],
      "text/plain": [
       "         Sale Price  Retail Price     Shoe Size  Price Difference  \\\n",
       "count  99956.000000   99956.00000  99956.000000      99956.000000   \n",
       "mean     446.634719     208.61359      9.344181        238.021129   \n",
       "std      255.982969      25.20001      2.329588        266.133179   \n",
       "min      186.000000     130.00000      3.500000        -34.000000   \n",
       "25%      275.000000     220.00000      8.000000         58.000000   \n",
       "50%      370.000000     220.00000      9.500000        154.000000   \n",
       "75%      540.000000     220.00000     11.000000        342.000000   \n",
       "max     4050.000000     250.00000     17.000000       3860.000000   \n",
       "\n",
       "        Price_Ratio  Difference_in_Date   Color_Black    Color_Blue  \\\n",
       "count  99956.000000        99956.000000  99956.000000  99956.000000   \n",
       "mean       2.248245          183.708722      0.095692      0.139381   \n",
       "std        1.508563          232.354142      0.294170      0.346346   \n",
       "min        0.845455          -69.000000      0.000000      0.000000   \n",
       "25%        1.263636           10.000000      0.000000      0.000000   \n",
       "50%        1.704545           56.000000      0.000000      0.000000   \n",
       "75%        2.613636          345.000000      0.000000      0.000000   \n",
       "max       21.315789         1321.000000      1.000000      1.000000   \n",
       "\n",
       "       Yeezy_Boost350       Air_Max        Presto      Zoom_Fly        Blazer  \\\n",
       "count    99956.000000  99956.000000  99956.000000  99956.000000  99956.000000   \n",
       "mean         0.721938      0.033915      0.043649      0.043189      0.036236   \n",
       "std          0.448047      0.181011      0.204314      0.203283      0.186878   \n",
       "min          0.000000      0.000000      0.000000      0.000000      0.000000   \n",
       "25%          0.000000      0.000000      0.000000      0.000000      0.000000   \n",
       "50%          1.000000      0.000000      0.000000      0.000000      0.000000   \n",
       "75%          1.000000      0.000000      0.000000      0.000000      0.000000   \n",
       "max          1.000000      1.000000      1.000000      1.000000      1.000000   \n",
       "\n",
       "          Air_Force      Jordan_1      Yeezy_V2  \n",
       "count  99956.000000  99956.000000  99956.000000  \n",
       "mean       0.024871      0.057055      0.717386  \n",
       "std        0.155733      0.231949      0.450273  \n",
       "min        0.000000      0.000000      0.000000  \n",
       "25%        0.000000      0.000000      0.000000  \n",
       "50%        0.000000      0.000000      1.000000  \n",
       "75%        0.000000      0.000000      1.000000  \n",
       "max        1.000000      1.000000      1.000000  "
      ]
     },
     "execution_count": 75,
     "metadata": {},
     "output_type": "execute_result"
    }
   ],
   "source": [
    "# Double check our summary stats look good\n",
    "shoes.describe()"
   ]
  },
  {
   "cell_type": "code",
   "execution_count": 76,
   "metadata": {},
   "outputs": [
    {
     "data": {
      "text/plain": [
       "Order Date            0\n",
       "Brand                 0\n",
       "Sneaker Name          0\n",
       "Sale Price            0\n",
       "Retail Price          0\n",
       "Release Date          0\n",
       "Shoe Size             0\n",
       "Buyer Region          0\n",
       "Price Difference      0\n",
       "Price_Ratio           0\n",
       "Difference_in_Date    0\n",
       "Order_Day             0\n",
       "Release_Day           0\n",
       "Order Month           0\n",
       "Release Month         0\n",
       "Color_Black           0\n",
       "Color_Blue            0\n",
       "Yeezy_Boost350        0\n",
       "Air_Max               0\n",
       "Presto                0\n",
       "Zoom_Fly              0\n",
       "Blazer                0\n",
       "Air_Force             0\n",
       "Jordan_1              0\n",
       "Yeezy_V2              0\n",
       "dtype: int64"
      ]
     },
     "execution_count": 76,
     "metadata": {},
     "output_type": "execute_result"
    }
   ],
   "source": [
    "# Double check we have no missing values\n",
    "shoes.isnull().sum()"
   ]
  },
  {
   "cell_type": "code",
   "execution_count": 77,
   "metadata": {},
   "outputs": [],
   "source": [
    "# Exporting the updated stockx data to use in a Tableau dashboard (go check it out!)\n",
    "shoes.to_csv(\"stockx_data_updated.csv\", index=False)"
   ]
  },
  {
   "cell_type": "markdown",
   "metadata": {},
   "source": [
    "## 3. Modeling"
   ]
  },
  {
   "cell_type": "markdown",
   "metadata": {},
   "source": [
    "For our modeling, we are going to start with a linear regression model since we are trying to predict the sale price of a shoe (a continuous target). We will do one model for yeezys and one model for off-whites since they may have different predictors that contribute to an increase or decrease in sale price. We will then move to a random forest regressor to see if we can more accurately predict sale prices using different models. We will use the MAPE or mean absolute precent error to compare the results of our models. We will use MAPE as it has good interpretability and is easier to understand in a business sense. We also know that are target is strictly positive (cannot have negative sale prices) so that makes MAPE a good metric candidate. \n",
    "\n",
    "For linear regression, we need to meet 4 assumptions that we will evaluate after running the model:\n",
    "    1. There exists a linear relationship between x and y\n",
    "    2. The residuals are independent\n",
    "    3. The residuals have constant variance\n",
    "    4. The residuals of the model are normaly distributed"
   ]
  },
  {
   "cell_type": "code",
   "execution_count": 78,
   "metadata": {},
   "outputs": [],
   "source": [
    "# Need to first split data into yeezy and off white data to build separate models for them\n",
    "shoes_yeezy = shoes[shoes['Brand'] == ' Yeezy']\n",
    "shoes_ow = shoes[shoes['Brand'] == 'Off-White']"
   ]
  },
  {
   "cell_type": "code",
   "execution_count": 79,
   "metadata": {},
   "outputs": [],
   "source": [
    "# Dropping columns that are captured by other variables for each of our data sets\n",
    "shoes_yeezy = shoes_yeezy.drop(columns=['Shoe Size', 'Difference_in_Date', 'Release Date', 'Price_Ratio', 'Order Date', 'Price Difference', 'Order Month', 'Order_Day', 'Sneaker Name', 'Buyer Region', 'Brand', 'Air_Max', 'Presto', 'Zoom_Fly', 'Blazer', 'Air_Force', 'Jordan_1', 'Yeezy_Boost350'])\n",
    "shoes_ow = shoes_ow.drop(columns=['Shoe Size', 'Difference_in_Date', 'Release Date', 'Price_Ratio', 'Order Date', 'Price Difference', 'Order Month', 'Order_Day', 'Sneaker Name', 'Buyer Region', 'Brand', 'Yeezy_Boost350', 'Yeezy_V2'])"
   ]
  },
  {
   "cell_type": "markdown",
   "metadata": {},
   "source": [
    "Because we would be predicting sale price BEFORE a shoe comes out, we need to eliminate a lot of our features since we would not know this information before resell. We also eliminate some variables based on potential multicollinearity issues."
   ]
  },
  {
   "cell_type": "code",
   "execution_count": 80,
   "metadata": {},
   "outputs": [],
   "source": [
    "# Creating dummy variables for our categorical variables so the model can handle them\n",
    "shoes_yeezy = pd.get_dummies(shoes_yeezy)\n",
    "shoes_ow = pd.get_dummies(shoes_ow)"
   ]
  },
  {
   "cell_type": "code",
   "execution_count": 81,
   "metadata": {},
   "outputs": [],
   "source": [
    "# Create objects x and y to separate our predictors from the target for both data sets (predicting sale price)\n",
    "# Yeezy variables\n",
    "x_yeezy = shoes_yeezy.drop('Sale Price', axis=1)\n",
    "y_yeezy = shoes_yeezy['Sale Price']\n",
    "\n",
    "# Off-white variables\n",
    "x_ow = shoes_ow.drop('Sale Price', axis=1)\n",
    "y_ow = shoes_ow['Sale Price']\n",
    "\n",
    "# Run train_test_split to create a train/test data set for the x and y variables for our yeezy and off-white data sets\n",
    "# We opt for a 80/20 split because we have a decent amount of data but want to make sure we have enough to train on\n",
    "x_train_yeezy, x_test_yeezy, y_train_yeezy, y_test_yeezy = train_test_split(x_yeezy, y_yeezy, test_size = 0.20, random_state=50)\n",
    "x_train_ow, x_test_ow, y_train_ow, y_test_ow = train_test_split(x_ow, y_ow, test_size = 0.20, random_state=50)"
   ]
  },
  {
   "cell_type": "markdown",
   "metadata": {},
   "source": [
    "### We can now start with running the Yeezy Linear Regression Model"
   ]
  },
  {
   "cell_type": "code",
   "execution_count": 82,
   "metadata": {
    "scrolled": true
   },
   "outputs": [
    {
     "data": {
      "text/html": [
       "<div>\n",
       "<style scoped>\n",
       "    .dataframe tbody tr th:only-of-type {\n",
       "        vertical-align: middle;\n",
       "    }\n",
       "\n",
       "    .dataframe tbody tr th {\n",
       "        vertical-align: top;\n",
       "    }\n",
       "\n",
       "    .dataframe thead th {\n",
       "        text-align: right;\n",
       "    }\n",
       "</style>\n",
       "<table border=\"1\" class=\"dataframe\">\n",
       "  <thead>\n",
       "    <tr style=\"text-align: right;\">\n",
       "      <th></th>\n",
       "      <th>Sale Price</th>\n",
       "      <th>Retail Price</th>\n",
       "      <th>Color_Black</th>\n",
       "      <th>Color_Blue</th>\n",
       "      <th>Yeezy_V2</th>\n",
       "      <th>Release_Day_Friday</th>\n",
       "      <th>Release_Day_Saturday</th>\n",
       "      <th>Release_Day_Thursday</th>\n",
       "      <th>Release_Day_Tuesday</th>\n",
       "      <th>Release_Day_Wednesday</th>\n",
       "      <th>Release Month_April</th>\n",
       "      <th>Release Month_August</th>\n",
       "      <th>Release Month_December</th>\n",
       "      <th>Release Month_February</th>\n",
       "      <th>Release Month_June</th>\n",
       "      <th>Release Month_November</th>\n",
       "      <th>Release Month_September</th>\n",
       "    </tr>\n",
       "  </thead>\n",
       "  <tbody>\n",
       "    <tr>\n",
       "      <th>Sale Price</th>\n",
       "      <td>1.000000</td>\n",
       "      <td>-0.384812</td>\n",
       "      <td>0.562317</td>\n",
       "      <td>0.050712</td>\n",
       "      <td>-0.384812</td>\n",
       "      <td>-0.163592</td>\n",
       "      <td>0.033037</td>\n",
       "      <td>-0.138260</td>\n",
       "      <td>0.141240</td>\n",
       "      <td>0.271368</td>\n",
       "      <td>-0.188468</td>\n",
       "      <td>0.135160</td>\n",
       "      <td>0.094433</td>\n",
       "      <td>0.138235</td>\n",
       "      <td>-0.250721</td>\n",
       "      <td>0.082465</td>\n",
       "      <td>0.248621</td>\n",
       "    </tr>\n",
       "    <tr>\n",
       "      <th>Retail Price</th>\n",
       "      <td>-0.384812</td>\n",
       "      <td>1.000000</td>\n",
       "      <td>-0.191362</td>\n",
       "      <td>0.030633</td>\n",
       "      <td>1.000000</td>\n",
       "      <td>-0.056075</td>\n",
       "      <td>0.043419</td>\n",
       "      <td>0.021695</td>\n",
       "      <td>-0.391184</td>\n",
       "      <td>0.019058</td>\n",
       "      <td>0.030254</td>\n",
       "      <td>-0.455794</td>\n",
       "      <td>0.017943</td>\n",
       "      <td>-0.024838</td>\n",
       "      <td>0.002131</td>\n",
       "      <td>0.013892</td>\n",
       "      <td>0.006640</td>\n",
       "    </tr>\n",
       "    <tr>\n",
       "      <th>Color_Black</th>\n",
       "      <td>0.562317</td>\n",
       "      <td>-0.191362</td>\n",
       "      <td>1.000000</td>\n",
       "      <td>-0.073303</td>\n",
       "      <td>-0.191362</td>\n",
       "      <td>-0.021542</td>\n",
       "      <td>-0.062189</td>\n",
       "      <td>-0.051914</td>\n",
       "      <td>-0.005940</td>\n",
       "      <td>0.195105</td>\n",
       "      <td>-0.072395</td>\n",
       "      <td>0.190475</td>\n",
       "      <td>-0.002694</td>\n",
       "      <td>0.145287</td>\n",
       "      <td>-0.082955</td>\n",
       "      <td>-0.005784</td>\n",
       "      <td>-0.015890</td>\n",
       "    </tr>\n",
       "    <tr>\n",
       "      <th>Color_Blue</th>\n",
       "      <td>0.050712</td>\n",
       "      <td>0.030633</td>\n",
       "      <td>-0.073303</td>\n",
       "      <td>1.000000</td>\n",
       "      <td>0.030633</td>\n",
       "      <td>-0.112352</td>\n",
       "      <td>0.193967</td>\n",
       "      <td>-0.104736</td>\n",
       "      <td>-0.011983</td>\n",
       "      <td>-0.092007</td>\n",
       "      <td>-0.146057</td>\n",
       "      <td>-0.013962</td>\n",
       "      <td>0.663275</td>\n",
       "      <td>-0.164843</td>\n",
       "      <td>-0.167361</td>\n",
       "      <td>-0.251559</td>\n",
       "      <td>-0.032058</td>\n",
       "    </tr>\n",
       "    <tr>\n",
       "      <th>Yeezy_V2</th>\n",
       "      <td>-0.384812</td>\n",
       "      <td>1.000000</td>\n",
       "      <td>-0.191362</td>\n",
       "      <td>0.030633</td>\n",
       "      <td>1.000000</td>\n",
       "      <td>-0.056075</td>\n",
       "      <td>0.043419</td>\n",
       "      <td>0.021695</td>\n",
       "      <td>-0.391184</td>\n",
       "      <td>0.019058</td>\n",
       "      <td>0.030254</td>\n",
       "      <td>-0.455794</td>\n",
       "      <td>0.017943</td>\n",
       "      <td>-0.024838</td>\n",
       "      <td>0.002131</td>\n",
       "      <td>0.013892</td>\n",
       "      <td>0.006640</td>\n",
       "    </tr>\n",
       "    <tr>\n",
       "      <th>Release_Day_Friday</th>\n",
       "      <td>-0.163592</td>\n",
       "      <td>-0.056075</td>\n",
       "      <td>-0.021542</td>\n",
       "      <td>-0.112352</td>\n",
       "      <td>-0.056075</td>\n",
       "      <td>1.000000</td>\n",
       "      <td>-0.579234</td>\n",
       "      <td>-0.079569</td>\n",
       "      <td>-0.009104</td>\n",
       "      <td>-0.069899</td>\n",
       "      <td>-0.110961</td>\n",
       "      <td>-0.010607</td>\n",
       "      <td>-0.169390</td>\n",
       "      <td>-0.107888</td>\n",
       "      <td>-0.127146</td>\n",
       "      <td>0.432913</td>\n",
       "      <td>-0.024354</td>\n",
       "    </tr>\n",
       "    <tr>\n",
       "      <th>Release_Day_Saturday</th>\n",
       "      <td>0.033037</td>\n",
       "      <td>0.043419</td>\n",
       "      <td>-0.062189</td>\n",
       "      <td>0.193967</td>\n",
       "      <td>0.043419</td>\n",
       "      <td>-0.579234</td>\n",
       "      <td>1.000000</td>\n",
       "      <td>-0.539968</td>\n",
       "      <td>-0.061780</td>\n",
       "      <td>-0.474345</td>\n",
       "      <td>0.191565</td>\n",
       "      <td>0.018313</td>\n",
       "      <td>-0.361780</td>\n",
       "      <td>0.204592</td>\n",
       "      <td>0.219507</td>\n",
       "      <td>-0.142207</td>\n",
       "      <td>0.042046</td>\n",
       "    </tr>\n",
       "    <tr>\n",
       "      <th>Release_Day_Thursday</th>\n",
       "      <td>-0.138260</td>\n",
       "      <td>0.021695</td>\n",
       "      <td>-0.051914</td>\n",
       "      <td>-0.104736</td>\n",
       "      <td>0.021695</td>\n",
       "      <td>-0.079569</td>\n",
       "      <td>-0.539968</td>\n",
       "      <td>1.000000</td>\n",
       "      <td>-0.008487</td>\n",
       "      <td>-0.065160</td>\n",
       "      <td>-0.103439</td>\n",
       "      <td>-0.009888</td>\n",
       "      <td>0.469738</td>\n",
       "      <td>-0.116743</td>\n",
       "      <td>-0.118527</td>\n",
       "      <td>-0.178157</td>\n",
       "      <td>-0.022704</td>\n",
       "    </tr>\n",
       "    <tr>\n",
       "      <th>Release_Day_Tuesday</th>\n",
       "      <td>0.141240</td>\n",
       "      <td>-0.391184</td>\n",
       "      <td>-0.005940</td>\n",
       "      <td>-0.011983</td>\n",
       "      <td>-0.391184</td>\n",
       "      <td>-0.009104</td>\n",
       "      <td>-0.061780</td>\n",
       "      <td>-0.008487</td>\n",
       "      <td>1.000000</td>\n",
       "      <td>-0.007455</td>\n",
       "      <td>-0.011835</td>\n",
       "      <td>-0.001131</td>\n",
       "      <td>0.053744</td>\n",
       "      <td>-0.013357</td>\n",
       "      <td>-0.013561</td>\n",
       "      <td>-0.020384</td>\n",
       "      <td>-0.002598</td>\n",
       "    </tr>\n",
       "    <tr>\n",
       "      <th>Release_Day_Wednesday</th>\n",
       "      <td>0.271368</td>\n",
       "      <td>0.019058</td>\n",
       "      <td>0.195105</td>\n",
       "      <td>-0.092007</td>\n",
       "      <td>0.019058</td>\n",
       "      <td>-0.069899</td>\n",
       "      <td>-0.474345</td>\n",
       "      <td>-0.065160</td>\n",
       "      <td>-0.007455</td>\n",
       "      <td>1.000000</td>\n",
       "      <td>-0.090868</td>\n",
       "      <td>-0.008687</td>\n",
       "      <td>0.310618</td>\n",
       "      <td>-0.102555</td>\n",
       "      <td>-0.104122</td>\n",
       "      <td>-0.059861</td>\n",
       "      <td>-0.019944</td>\n",
       "    </tr>\n",
       "    <tr>\n",
       "      <th>Release Month_April</th>\n",
       "      <td>-0.188468</td>\n",
       "      <td>0.030254</td>\n",
       "      <td>-0.072395</td>\n",
       "      <td>-0.146057</td>\n",
       "      <td>0.030254</td>\n",
       "      <td>-0.110961</td>\n",
       "      <td>0.191565</td>\n",
       "      <td>-0.103439</td>\n",
       "      <td>-0.011835</td>\n",
       "      <td>-0.090868</td>\n",
       "      <td>1.000000</td>\n",
       "      <td>-0.013789</td>\n",
       "      <td>-0.220205</td>\n",
       "      <td>-0.162801</td>\n",
       "      <td>-0.165289</td>\n",
       "      <td>-0.248444</td>\n",
       "      <td>-0.031661</td>\n",
       "    </tr>\n",
       "    <tr>\n",
       "      <th>Release Month_August</th>\n",
       "      <td>0.135160</td>\n",
       "      <td>-0.455794</td>\n",
       "      <td>0.190475</td>\n",
       "      <td>-0.013962</td>\n",
       "      <td>-0.455794</td>\n",
       "      <td>-0.010607</td>\n",
       "      <td>0.018313</td>\n",
       "      <td>-0.009888</td>\n",
       "      <td>-0.001131</td>\n",
       "      <td>-0.008687</td>\n",
       "      <td>-0.013789</td>\n",
       "      <td>1.000000</td>\n",
       "      <td>-0.021051</td>\n",
       "      <td>-0.015563</td>\n",
       "      <td>-0.015801</td>\n",
       "      <td>-0.023750</td>\n",
       "      <td>-0.003027</td>\n",
       "    </tr>\n",
       "    <tr>\n",
       "      <th>Release Month_December</th>\n",
       "      <td>0.094433</td>\n",
       "      <td>0.017943</td>\n",
       "      <td>-0.002694</td>\n",
       "      <td>0.663275</td>\n",
       "      <td>0.017943</td>\n",
       "      <td>-0.169390</td>\n",
       "      <td>-0.361780</td>\n",
       "      <td>0.469738</td>\n",
       "      <td>0.053744</td>\n",
       "      <td>0.310618</td>\n",
       "      <td>-0.220205</td>\n",
       "      <td>-0.021051</td>\n",
       "      <td>1.000000</td>\n",
       "      <td>-0.248528</td>\n",
       "      <td>-0.252326</td>\n",
       "      <td>-0.379268</td>\n",
       "      <td>-0.048332</td>\n",
       "    </tr>\n",
       "    <tr>\n",
       "      <th>Release Month_February</th>\n",
       "      <td>0.138235</td>\n",
       "      <td>-0.024838</td>\n",
       "      <td>0.145287</td>\n",
       "      <td>-0.164843</td>\n",
       "      <td>-0.024838</td>\n",
       "      <td>-0.107888</td>\n",
       "      <td>0.204592</td>\n",
       "      <td>-0.116743</td>\n",
       "      <td>-0.013357</td>\n",
       "      <td>-0.102555</td>\n",
       "      <td>-0.162801</td>\n",
       "      <td>-0.015563</td>\n",
       "      <td>-0.248528</td>\n",
       "      <td>1.000000</td>\n",
       "      <td>-0.186548</td>\n",
       "      <td>-0.280399</td>\n",
       "      <td>-0.035733</td>\n",
       "    </tr>\n",
       "    <tr>\n",
       "      <th>Release Month_June</th>\n",
       "      <td>-0.250721</td>\n",
       "      <td>0.002131</td>\n",
       "      <td>-0.082955</td>\n",
       "      <td>-0.167361</td>\n",
       "      <td>0.002131</td>\n",
       "      <td>-0.127146</td>\n",
       "      <td>0.219507</td>\n",
       "      <td>-0.118527</td>\n",
       "      <td>-0.013561</td>\n",
       "      <td>-0.104122</td>\n",
       "      <td>-0.165289</td>\n",
       "      <td>-0.015801</td>\n",
       "      <td>-0.252326</td>\n",
       "      <td>-0.186548</td>\n",
       "      <td>1.000000</td>\n",
       "      <td>-0.284683</td>\n",
       "      <td>-0.036279</td>\n",
       "    </tr>\n",
       "    <tr>\n",
       "      <th>Release Month_November</th>\n",
       "      <td>0.082465</td>\n",
       "      <td>0.013892</td>\n",
       "      <td>-0.005784</td>\n",
       "      <td>-0.251559</td>\n",
       "      <td>0.013892</td>\n",
       "      <td>0.432913</td>\n",
       "      <td>-0.142207</td>\n",
       "      <td>-0.178157</td>\n",
       "      <td>-0.020384</td>\n",
       "      <td>-0.059861</td>\n",
       "      <td>-0.248444</td>\n",
       "      <td>-0.023750</td>\n",
       "      <td>-0.379268</td>\n",
       "      <td>-0.280399</td>\n",
       "      <td>-0.284683</td>\n",
       "      <td>1.000000</td>\n",
       "      <td>-0.054530</td>\n",
       "    </tr>\n",
       "    <tr>\n",
       "      <th>Release Month_September</th>\n",
       "      <td>0.248621</td>\n",
       "      <td>0.006640</td>\n",
       "      <td>-0.015890</td>\n",
       "      <td>-0.032058</td>\n",
       "      <td>0.006640</td>\n",
       "      <td>-0.024354</td>\n",
       "      <td>0.042046</td>\n",
       "      <td>-0.022704</td>\n",
       "      <td>-0.002598</td>\n",
       "      <td>-0.019944</td>\n",
       "      <td>-0.031661</td>\n",
       "      <td>-0.003027</td>\n",
       "      <td>-0.048332</td>\n",
       "      <td>-0.035733</td>\n",
       "      <td>-0.036279</td>\n",
       "      <td>-0.054530</td>\n",
       "      <td>1.000000</td>\n",
       "    </tr>\n",
       "  </tbody>\n",
       "</table>\n",
       "</div>"
      ],
      "text/plain": [
       "                         Sale Price  Retail Price  Color_Black  Color_Blue  \\\n",
       "Sale Price                 1.000000     -0.384812     0.562317    0.050712   \n",
       "Retail Price              -0.384812      1.000000    -0.191362    0.030633   \n",
       "Color_Black                0.562317     -0.191362     1.000000   -0.073303   \n",
       "Color_Blue                 0.050712      0.030633    -0.073303    1.000000   \n",
       "Yeezy_V2                  -0.384812      1.000000    -0.191362    0.030633   \n",
       "Release_Day_Friday        -0.163592     -0.056075    -0.021542   -0.112352   \n",
       "Release_Day_Saturday       0.033037      0.043419    -0.062189    0.193967   \n",
       "Release_Day_Thursday      -0.138260      0.021695    -0.051914   -0.104736   \n",
       "Release_Day_Tuesday        0.141240     -0.391184    -0.005940   -0.011983   \n",
       "Release_Day_Wednesday      0.271368      0.019058     0.195105   -0.092007   \n",
       "Release Month_April       -0.188468      0.030254    -0.072395   -0.146057   \n",
       "Release Month_August       0.135160     -0.455794     0.190475   -0.013962   \n",
       "Release Month_December     0.094433      0.017943    -0.002694    0.663275   \n",
       "Release Month_February     0.138235     -0.024838     0.145287   -0.164843   \n",
       "Release Month_June        -0.250721      0.002131    -0.082955   -0.167361   \n",
       "Release Month_November     0.082465      0.013892    -0.005784   -0.251559   \n",
       "Release Month_September    0.248621      0.006640    -0.015890   -0.032058   \n",
       "\n",
       "                         Yeezy_V2  Release_Day_Friday  Release_Day_Saturday  \\\n",
       "Sale Price              -0.384812           -0.163592              0.033037   \n",
       "Retail Price             1.000000           -0.056075              0.043419   \n",
       "Color_Black             -0.191362           -0.021542             -0.062189   \n",
       "Color_Blue               0.030633           -0.112352              0.193967   \n",
       "Yeezy_V2                 1.000000           -0.056075              0.043419   \n",
       "Release_Day_Friday      -0.056075            1.000000             -0.579234   \n",
       "Release_Day_Saturday     0.043419           -0.579234              1.000000   \n",
       "Release_Day_Thursday     0.021695           -0.079569             -0.539968   \n",
       "Release_Day_Tuesday     -0.391184           -0.009104             -0.061780   \n",
       "Release_Day_Wednesday    0.019058           -0.069899             -0.474345   \n",
       "Release Month_April      0.030254           -0.110961              0.191565   \n",
       "Release Month_August    -0.455794           -0.010607              0.018313   \n",
       "Release Month_December   0.017943           -0.169390             -0.361780   \n",
       "Release Month_February  -0.024838           -0.107888              0.204592   \n",
       "Release Month_June       0.002131           -0.127146              0.219507   \n",
       "Release Month_November   0.013892            0.432913             -0.142207   \n",
       "Release Month_September  0.006640           -0.024354              0.042046   \n",
       "\n",
       "                         Release_Day_Thursday  Release_Day_Tuesday  \\\n",
       "Sale Price                          -0.138260             0.141240   \n",
       "Retail Price                         0.021695            -0.391184   \n",
       "Color_Black                         -0.051914            -0.005940   \n",
       "Color_Blue                          -0.104736            -0.011983   \n",
       "Yeezy_V2                             0.021695            -0.391184   \n",
       "Release_Day_Friday                  -0.079569            -0.009104   \n",
       "Release_Day_Saturday                -0.539968            -0.061780   \n",
       "Release_Day_Thursday                 1.000000            -0.008487   \n",
       "Release_Day_Tuesday                 -0.008487             1.000000   \n",
       "Release_Day_Wednesday               -0.065160            -0.007455   \n",
       "Release Month_April                 -0.103439            -0.011835   \n",
       "Release Month_August                -0.009888            -0.001131   \n",
       "Release Month_December               0.469738             0.053744   \n",
       "Release Month_February              -0.116743            -0.013357   \n",
       "Release Month_June                  -0.118527            -0.013561   \n",
       "Release Month_November              -0.178157            -0.020384   \n",
       "Release Month_September             -0.022704            -0.002598   \n",
       "\n",
       "                         Release_Day_Wednesday  Release Month_April  \\\n",
       "Sale Price                            0.271368            -0.188468   \n",
       "Retail Price                          0.019058             0.030254   \n",
       "Color_Black                           0.195105            -0.072395   \n",
       "Color_Blue                           -0.092007            -0.146057   \n",
       "Yeezy_V2                              0.019058             0.030254   \n",
       "Release_Day_Friday                   -0.069899            -0.110961   \n",
       "Release_Day_Saturday                 -0.474345             0.191565   \n",
       "Release_Day_Thursday                 -0.065160            -0.103439   \n",
       "Release_Day_Tuesday                  -0.007455            -0.011835   \n",
       "Release_Day_Wednesday                 1.000000            -0.090868   \n",
       "Release Month_April                  -0.090868             1.000000   \n",
       "Release Month_August                 -0.008687            -0.013789   \n",
       "Release Month_December                0.310618            -0.220205   \n",
       "Release Month_February               -0.102555            -0.162801   \n",
       "Release Month_June                   -0.104122            -0.165289   \n",
       "Release Month_November               -0.059861            -0.248444   \n",
       "Release Month_September              -0.019944            -0.031661   \n",
       "\n",
       "                         Release Month_August  Release Month_December  \\\n",
       "Sale Price                           0.135160                0.094433   \n",
       "Retail Price                        -0.455794                0.017943   \n",
       "Color_Black                          0.190475               -0.002694   \n",
       "Color_Blue                          -0.013962                0.663275   \n",
       "Yeezy_V2                            -0.455794                0.017943   \n",
       "Release_Day_Friday                  -0.010607               -0.169390   \n",
       "Release_Day_Saturday                 0.018313               -0.361780   \n",
       "Release_Day_Thursday                -0.009888                0.469738   \n",
       "Release_Day_Tuesday                 -0.001131                0.053744   \n",
       "Release_Day_Wednesday               -0.008687                0.310618   \n",
       "Release Month_April                 -0.013789               -0.220205   \n",
       "Release Month_August                 1.000000               -0.021051   \n",
       "Release Month_December              -0.021051                1.000000   \n",
       "Release Month_February              -0.015563               -0.248528   \n",
       "Release Month_June                  -0.015801               -0.252326   \n",
       "Release Month_November              -0.023750               -0.379268   \n",
       "Release Month_September             -0.003027               -0.048332   \n",
       "\n",
       "                         Release Month_February  Release Month_June  \\\n",
       "Sale Price                             0.138235           -0.250721   \n",
       "Retail Price                          -0.024838            0.002131   \n",
       "Color_Black                            0.145287           -0.082955   \n",
       "Color_Blue                            -0.164843           -0.167361   \n",
       "Yeezy_V2                              -0.024838            0.002131   \n",
       "Release_Day_Friday                    -0.107888           -0.127146   \n",
       "Release_Day_Saturday                   0.204592            0.219507   \n",
       "Release_Day_Thursday                  -0.116743           -0.118527   \n",
       "Release_Day_Tuesday                   -0.013357           -0.013561   \n",
       "Release_Day_Wednesday                 -0.102555           -0.104122   \n",
       "Release Month_April                   -0.162801           -0.165289   \n",
       "Release Month_August                  -0.015563           -0.015801   \n",
       "Release Month_December                -0.248528           -0.252326   \n",
       "Release Month_February                 1.000000           -0.186548   \n",
       "Release Month_June                    -0.186548            1.000000   \n",
       "Release Month_November                -0.280399           -0.284683   \n",
       "Release Month_September               -0.035733           -0.036279   \n",
       "\n",
       "                         Release Month_November  Release Month_September  \n",
       "Sale Price                             0.082465                 0.248621  \n",
       "Retail Price                           0.013892                 0.006640  \n",
       "Color_Black                           -0.005784                -0.015890  \n",
       "Color_Blue                            -0.251559                -0.032058  \n",
       "Yeezy_V2                               0.013892                 0.006640  \n",
       "Release_Day_Friday                     0.432913                -0.024354  \n",
       "Release_Day_Saturday                  -0.142207                 0.042046  \n",
       "Release_Day_Thursday                  -0.178157                -0.022704  \n",
       "Release_Day_Tuesday                   -0.020384                -0.002598  \n",
       "Release_Day_Wednesday                 -0.059861                -0.019944  \n",
       "Release Month_April                   -0.248444                -0.031661  \n",
       "Release Month_August                  -0.023750                -0.003027  \n",
       "Release Month_December                -0.379268                -0.048332  \n",
       "Release Month_February                -0.280399                -0.035733  \n",
       "Release Month_June                    -0.284683                -0.036279  \n",
       "Release Month_November                 1.000000                -0.054530  \n",
       "Release Month_September               -0.054530                 1.000000  "
      ]
     },
     "execution_count": 82,
     "metadata": {},
     "output_type": "execute_result"
    }
   ],
   "source": [
    "# Looking at our correlations between predictors and target for yeezy data to make sure there are no issues\n",
    "shoes_yeezy.corr(method='pearson')"
   ]
  },
  {
   "cell_type": "code",
   "execution_count": 83,
   "metadata": {},
   "outputs": [
    {
     "name": "stdout",
     "output_type": "stream",
     "text": [
      "                            OLS Regression Results                            \n",
      "==============================================================================\n",
      "Dep. Variable:             Sale Price   R-squared:                       0.640\n",
      "Model:                            OLS   Adj. R-squared:                  0.640\n",
      "Method:                 Least Squares   F-statistic:                     7879.\n",
      "Date:                Tue, 16 Feb 2021   Prob (F-statistic):               0.00\n",
      "Time:                        13:23:32   Log-Likelihood:            -3.3968e+05\n",
      "No. Observations:               57729   AIC:                         6.794e+05\n",
      "Df Residuals:                   57715   BIC:                         6.795e+05\n",
      "Df Model:                          13                                         \n",
      "Covariance Type:            nonrobust                                         \n",
      "===========================================================================================\n",
      "                              coef    std err          t      P>|t|      [0.025      0.975]\n",
      "-------------------------------------------------------------------------------------------\n",
      "Retail Price                4.6816      0.024    197.765      0.000       4.635       4.728\n",
      "Color_Black               353.3895      2.092    168.920      0.000     349.289     357.490\n",
      "Color_Blue                -29.5493      2.988     -9.889      0.000     -35.406     -23.693\n",
      "Yeezy_V2                 -769.7093      6.099   -126.207      0.000    -781.663    -757.756\n",
      "Release_Day_Friday        -69.0980      3.264    -21.171      0.000     -75.495     -62.701\n",
      "Release_Day_Saturday       69.8915      3.162     22.102      0.000      63.694      76.089\n",
      "Release_Day_Thursday      -51.4132      3.159    -16.274      0.000     -57.605     -45.221\n",
      "Release_Day_Tuesday         5.7006     10.472      0.544      0.586     -14.825      26.226\n",
      "Release_Day_Wednesday     121.9135      3.086     39.511      0.000     115.866     127.961\n",
      "Release Month_April       -41.2935      2.067    -19.974      0.000     -45.346     -37.241\n",
      "Release Month_August     -462.8595      9.881    -46.841      0.000    -482.227    -443.492\n",
      "Release Month_December     78.3842      3.007     26.069      0.000      72.491      84.277\n",
      "Release Month_February     35.9458      1.993     18.036      0.000      32.040      39.852\n",
      "Release Month_June        -56.8096      2.015    -28.192      0.000     -60.759     -52.860\n",
      "Release Month_November     66.9700      1.966     34.071      0.000      63.117      70.823\n",
      "Release Month_September   456.6569      4.140    110.293      0.000     448.542     464.772\n",
      "==============================================================================\n",
      "Omnibus:                    35719.582   Durbin-Watson:                   1.982\n",
      "Prob(Omnibus):                  0.000   Jarque-Bera (JB):           914235.638\n",
      "Skew:                           2.542   Prob(JB):                         0.00\n",
      "Kurtosis:                      21.821   Cond. No.                     2.32e+17\n",
      "==============================================================================\n",
      "\n",
      "Warnings:\n",
      "[1] Standard Errors assume that the covariance matrix of the errors is correctly specified.\n",
      "[2] The smallest eigenvalue is 5.19e-26. This might indicate that there are\n",
      "strong multicollinearity problems or that the design matrix is singular.\n"
     ]
    }
   ],
   "source": [
    "# Create the linear model: lm1 for our yeezy data\n",
    "lm1_yeezy = sm.OLS(y_train_yeezy, x_train_yeezy).fit()\n",
    "\n",
    "# Inspect the results\n",
    "print(lm1_yeezy.summary())"
   ]
  },
  {
   "cell_type": "markdown",
   "metadata": {},
   "source": [
    "Lets examine some of the results from this model:\n",
    "\n",
    "<br> **R Squared/Adjusted R Squared:** the model explains 64% of the variability of the response data around its mean\n",
    "<br> **Durbin Watson:** A durbin watson value of 1.98 indicates we have no issue of autocorrelation in our model\n",
    "<br> **Kurtosis:** A value of 21.821 indicates we have very heavy \"tails\" in our distribution (to be expected)\n",
    "<br> **AIC:** 679400; The likelihood of the model to predict/estimate future values (used for model comparison)\n",
    "<br> **BIC:** 679400; Similar to our AIC value, used for model comparison\n",
    "<br> **P Values:** All of our p values for our variables seem significant except for the Release Day of Tuesday (we are using a 0.005 cutoff for our p values due to our sample size and wanting a fair amount of evidence)"
   ]
  },
  {
   "cell_type": "code",
   "execution_count": 84,
   "metadata": {},
   "outputs": [
    {
     "data": {
      "image/png": "[encoded data removed]",
      "text/plain": [
       "<Figure size 432x288 with 1 Axes>"
      ]
     },
     "execution_count": 84,
     "metadata": {},
     "output_type": "execute_result"
    },
    {
     "data": {
      "image/png": "[encoded data removed]",
      "text/plain": [
       "<Figure size 432x288 with 1 Axes>"
      ]
     },
     "metadata": {
      "needs_background": "light"
     },
     "output_type": "display_data"
    }
   ],
   "source": [
    "# Getting test predictions\n",
    "test_preds_yeezy1 = lm1_yeezy.predict(x_test_yeezy)\n",
    "\n",
    "# Calculating the residuals\n",
    "residuals_yeezy1 = test_preds_yeezy1 - y_test_yeezy\n",
    "\n",
    "# Making QQ-plot of residuals (to check again for normality)\n",
    "sm.qqplot(residuals_yeezy1,line=\"s\")"
   ]
  },
  {
   "cell_type": "code",
   "execution_count": 85,
   "metadata": {},
   "outputs": [
    {
     "data": {
      "text/plain": [
       "13.706230384857268"
      ]
     },
     "execution_count": 85,
     "metadata": {},
     "output_type": "execute_result"
    }
   ],
   "source": [
    "#Calculate the MAPE\n",
    "lm1_yeezy_mape = np.mean(100 * abs((residuals_yeezy1/y_test_yeezy)))\n",
    "lm1_yeezy_mape"
   ]
  },
  {
   "cell_type": "markdown",
   "metadata": {},
   "source": [
    "### Now we can repeat the same process for Off-White Linear Regression"
   ]
  },
  {
   "cell_type": "code",
   "execution_count": 86,
   "metadata": {},
   "outputs": [
    {
     "data": {
      "text/html": [
       "<div>\n",
       "<style scoped>\n",
       "    .dataframe tbody tr th:only-of-type {\n",
       "        vertical-align: middle;\n",
       "    }\n",
       "\n",
       "    .dataframe tbody tr th {\n",
       "        vertical-align: top;\n",
       "    }\n",
       "\n",
       "    .dataframe thead th {\n",
       "        text-align: right;\n",
       "    }\n",
       "</style>\n",
       "<table border=\"1\" class=\"dataframe\">\n",
       "  <thead>\n",
       "    <tr style=\"text-align: right;\">\n",
       "      <th></th>\n",
       "      <th>Sale Price</th>\n",
       "      <th>Retail Price</th>\n",
       "      <th>Color_Black</th>\n",
       "      <th>Color_Blue</th>\n",
       "      <th>Air_Max</th>\n",
       "      <th>Presto</th>\n",
       "      <th>Zoom_Fly</th>\n",
       "      <th>Blazer</th>\n",
       "      <th>Air_Force</th>\n",
       "      <th>Jordan_1</th>\n",
       "      <th>...</th>\n",
       "      <th>Release Month_April</th>\n",
       "      <th>Release Month_August</th>\n",
       "      <th>Release Month_December</th>\n",
       "      <th>Release Month_February</th>\n",
       "      <th>Release Month_July</th>\n",
       "      <th>Release Month_June</th>\n",
       "      <th>Release Month_March</th>\n",
       "      <th>Release Month_November</th>\n",
       "      <th>Release Month_October</th>\n",
       "      <th>Release Month_September</th>\n",
       "    </tr>\n",
       "  </thead>\n",
       "  <tbody>\n",
       "    <tr>\n",
       "      <th>Sale Price</th>\n",
       "      <td>1.000000</td>\n",
       "      <td>0.085411</td>\n",
       "      <td>-0.203276</td>\n",
       "      <td>0.239790</td>\n",
       "      <td>-0.026162</td>\n",
       "      <td>0.111650</td>\n",
       "      <td>-0.443259</td>\n",
       "      <td>-0.079355</td>\n",
       "      <td>-0.153419</td>\n",
       "      <td>0.538312</td>\n",
       "      <td>...</td>\n",
       "      <td>-0.058506</td>\n",
       "      <td>0.004151</td>\n",
       "      <td>-0.183345</td>\n",
       "      <td>-0.087316</td>\n",
       "      <td>0.047531</td>\n",
       "      <td>0.098397</td>\n",
       "      <td>0.139687</td>\n",
       "      <td>-0.219041</td>\n",
       "      <td>-0.200615</td>\n",
       "      <td>0.449836</td>\n",
       "    </tr>\n",
       "    <tr>\n",
       "      <th>Retail Price</th>\n",
       "      <td>0.085411</td>\n",
       "      <td>1.000000</td>\n",
       "      <td>0.095431</td>\n",
       "      <td>0.143706</td>\n",
       "      <td>-0.079574</td>\n",
       "      <td>-0.252888</td>\n",
       "      <td>-0.004374</td>\n",
       "      <td>-0.578055</td>\n",
       "      <td>-0.091255</td>\n",
       "      <td>0.163213</td>\n",
       "      <td>...</td>\n",
       "      <td>0.526276</td>\n",
       "      <td>-0.188019</td>\n",
       "      <td>-0.078528</td>\n",
       "      <td>-0.133493</td>\n",
       "      <td>-0.158029</td>\n",
       "      <td>0.201940</td>\n",
       "      <td>0.445319</td>\n",
       "      <td>-0.021582</td>\n",
       "      <td>-0.420313</td>\n",
       "      <td>-0.011713</td>\n",
       "    </tr>\n",
       "    <tr>\n",
       "      <th>Color_Black</th>\n",
       "      <td>-0.203276</td>\n",
       "      <td>0.095431</td>\n",
       "      <td>1.000000</td>\n",
       "      <td>-0.260432</td>\n",
       "      <td>0.038675</td>\n",
       "      <td>0.177353</td>\n",
       "      <td>0.176897</td>\n",
       "      <td>-0.225344</td>\n",
       "      <td>0.095908</td>\n",
       "      <td>-0.295783</td>\n",
       "      <td>...</td>\n",
       "      <td>-0.143446</td>\n",
       "      <td>-0.178434</td>\n",
       "      <td>0.147726</td>\n",
       "      <td>0.143291</td>\n",
       "      <td>0.463210</td>\n",
       "      <td>-0.173135</td>\n",
       "      <td>0.317839</td>\n",
       "      <td>-0.214740</td>\n",
       "      <td>0.071751</td>\n",
       "      <td>-0.202647</td>\n",
       "    </tr>\n",
       "    <tr>\n",
       "      <th>Color_Blue</th>\n",
       "      <td>0.239790</td>\n",
       "      <td>0.143706</td>\n",
       "      <td>-0.260432</td>\n",
       "      <td>1.000000</td>\n",
       "      <td>-0.166738</td>\n",
       "      <td>-0.193047</td>\n",
       "      <td>-0.191838</td>\n",
       "      <td>-0.173174</td>\n",
       "      <td>-0.140212</td>\n",
       "      <td>0.880483</td>\n",
       "      <td>...</td>\n",
       "      <td>-0.110236</td>\n",
       "      <td>-0.137124</td>\n",
       "      <td>-0.123866</td>\n",
       "      <td>-0.101904</td>\n",
       "      <td>-0.120635</td>\n",
       "      <td>0.858466</td>\n",
       "      <td>-0.111517</td>\n",
       "      <td>-0.165025</td>\n",
       "      <td>-0.201484</td>\n",
       "      <td>-0.155732</td>\n",
       "    </tr>\n",
       "    <tr>\n",
       "      <th>Air_Max</th>\n",
       "      <td>-0.026162</td>\n",
       "      <td>-0.079574</td>\n",
       "      <td>0.038675</td>\n",
       "      <td>-0.166738</td>\n",
       "      <td>1.000000</td>\n",
       "      <td>-0.160830</td>\n",
       "      <td>-0.159823</td>\n",
       "      <td>-0.144274</td>\n",
       "      <td>-0.116813</td>\n",
       "      <td>-0.189371</td>\n",
       "      <td>...</td>\n",
       "      <td>-0.091839</td>\n",
       "      <td>-0.029484</td>\n",
       "      <td>-0.103194</td>\n",
       "      <td>0.611165</td>\n",
       "      <td>-0.100502</td>\n",
       "      <td>-0.194228</td>\n",
       "      <td>-0.092906</td>\n",
       "      <td>0.046716</td>\n",
       "      <td>0.017715</td>\n",
       "      <td>0.092282</td>\n",
       "    </tr>\n",
       "    <tr>\n",
       "      <th>Presto</th>\n",
       "      <td>0.111650</td>\n",
       "      <td>-0.252888</td>\n",
       "      <td>0.177353</td>\n",
       "      <td>-0.193047</td>\n",
       "      <td>-0.160830</td>\n",
       "      <td>1.000000</td>\n",
       "      <td>-0.185041</td>\n",
       "      <td>-0.167038</td>\n",
       "      <td>-0.135244</td>\n",
       "      <td>-0.219251</td>\n",
       "      <td>...</td>\n",
       "      <td>-0.106330</td>\n",
       "      <td>0.532411</td>\n",
       "      <td>-0.119477</td>\n",
       "      <td>-0.098294</td>\n",
       "      <td>0.624899</td>\n",
       "      <td>-0.224874</td>\n",
       "      <td>-0.107565</td>\n",
       "      <td>-0.159177</td>\n",
       "      <td>-0.194345</td>\n",
       "      <td>0.039641</td>\n",
       "    </tr>\n",
       "    <tr>\n",
       "      <th>Zoom_Fly</th>\n",
       "      <td>-0.443259</td>\n",
       "      <td>-0.004374</td>\n",
       "      <td>0.176897</td>\n",
       "      <td>-0.191838</td>\n",
       "      <td>-0.159823</td>\n",
       "      <td>-0.185041</td>\n",
       "      <td>1.000000</td>\n",
       "      <td>-0.165992</td>\n",
       "      <td>-0.134398</td>\n",
       "      <td>-0.217878</td>\n",
       "      <td>...</td>\n",
       "      <td>-0.105665</td>\n",
       "      <td>-0.131437</td>\n",
       "      <td>-0.118729</td>\n",
       "      <td>-0.097678</td>\n",
       "      <td>-0.115632</td>\n",
       "      <td>0.091863</td>\n",
       "      <td>-0.106892</td>\n",
       "      <td>0.390641</td>\n",
       "      <td>0.131055</td>\n",
       "      <td>-0.149273</td>\n",
       "    </tr>\n",
       "    <tr>\n",
       "      <th>Blazer</th>\n",
       "      <td>-0.079355</td>\n",
       "      <td>-0.578055</td>\n",
       "      <td>-0.225344</td>\n",
       "      <td>-0.173174</td>\n",
       "      <td>-0.144274</td>\n",
       "      <td>-0.167038</td>\n",
       "      <td>-0.165992</td>\n",
       "      <td>1.000000</td>\n",
       "      <td>-0.121322</td>\n",
       "      <td>-0.196681</td>\n",
       "      <td>...</td>\n",
       "      <td>-0.095384</td>\n",
       "      <td>-0.008797</td>\n",
       "      <td>-0.107178</td>\n",
       "      <td>-0.088175</td>\n",
       "      <td>-0.104382</td>\n",
       "      <td>-0.201725</td>\n",
       "      <td>-0.096492</td>\n",
       "      <td>-0.142791</td>\n",
       "      <td>0.634288</td>\n",
       "      <td>0.037702</td>\n",
       "    </tr>\n",
       "    <tr>\n",
       "      <th>Air_Force</th>\n",
       "      <td>-0.153419</td>\n",
       "      <td>-0.091255</td>\n",
       "      <td>0.095908</td>\n",
       "      <td>-0.140212</td>\n",
       "      <td>-0.116813</td>\n",
       "      <td>-0.135244</td>\n",
       "      <td>-0.134398</td>\n",
       "      <td>-0.121322</td>\n",
       "      <td>1.000000</td>\n",
       "      <td>-0.159245</td>\n",
       "      <td>...</td>\n",
       "      <td>-0.077229</td>\n",
       "      <td>-0.096066</td>\n",
       "      <td>0.883416</td>\n",
       "      <td>-0.071392</td>\n",
       "      <td>-0.084514</td>\n",
       "      <td>-0.163329</td>\n",
       "      <td>-0.078126</td>\n",
       "      <td>0.081244</td>\n",
       "      <td>-0.141155</td>\n",
       "      <td>-0.109102</td>\n",
       "    </tr>\n",
       "    <tr>\n",
       "      <th>Jordan_1</th>\n",
       "      <td>0.538312</td>\n",
       "      <td>0.163213</td>\n",
       "      <td>-0.295783</td>\n",
       "      <td>0.880483</td>\n",
       "      <td>-0.189371</td>\n",
       "      <td>-0.219251</td>\n",
       "      <td>-0.217878</td>\n",
       "      <td>-0.196681</td>\n",
       "      <td>-0.159245</td>\n",
       "      <td>1.000000</td>\n",
       "      <td>...</td>\n",
       "      <td>-0.125200</td>\n",
       "      <td>-0.155738</td>\n",
       "      <td>-0.140680</td>\n",
       "      <td>-0.115737</td>\n",
       "      <td>-0.137010</td>\n",
       "      <td>0.742822</td>\n",
       "      <td>-0.007834</td>\n",
       "      <td>-0.187425</td>\n",
       "      <td>-0.228834</td>\n",
       "      <td>0.039775</td>\n",
       "    </tr>\n",
       "    <tr>\n",
       "      <th>Release_Day_Friday</th>\n",
       "      <td>-0.004220</td>\n",
       "      <td>0.055543</td>\n",
       "      <td>0.409205</td>\n",
       "      <td>-0.211568</td>\n",
       "      <td>-0.176260</td>\n",
       "      <td>0.759935</td>\n",
       "      <td>-0.202794</td>\n",
       "      <td>-0.183064</td>\n",
       "      <td>-0.148220</td>\n",
       "      <td>-0.240286</td>\n",
       "      <td>...</td>\n",
       "      <td>-0.116532</td>\n",
       "      <td>0.480678</td>\n",
       "      <td>-0.130940</td>\n",
       "      <td>-0.107724</td>\n",
       "      <td>0.570193</td>\n",
       "      <td>-0.246449</td>\n",
       "      <td>0.402939</td>\n",
       "      <td>-0.174449</td>\n",
       "      <td>-0.212991</td>\n",
       "      <td>-0.164625</td>\n",
       "    </tr>\n",
       "    <tr>\n",
       "      <th>Release_Day_Saturday</th>\n",
       "      <td>0.442569</td>\n",
       "      <td>0.304093</td>\n",
       "      <td>-0.275976</td>\n",
       "      <td>0.540491</td>\n",
       "      <td>-0.119804</td>\n",
       "      <td>-0.237162</td>\n",
       "      <td>-0.107813</td>\n",
       "      <td>-0.148731</td>\n",
       "      <td>-0.251460</td>\n",
       "      <td>0.613858</td>\n",
       "      <td>...</td>\n",
       "      <td>0.297703</td>\n",
       "      <td>-0.121945</td>\n",
       "      <td>-0.229173</td>\n",
       "      <td>-0.188540</td>\n",
       "      <td>-0.223194</td>\n",
       "      <td>0.397074</td>\n",
       "      <td>-0.108635</td>\n",
       "      <td>-0.298330</td>\n",
       "      <td>-0.133723</td>\n",
       "      <td>0.420567</td>\n",
       "    </tr>\n",
       "    <tr>\n",
       "      <th>Release_Day_Thursday</th>\n",
       "      <td>-0.200697</td>\n",
       "      <td>0.023447</td>\n",
       "      <td>0.209588</td>\n",
       "      <td>-0.164320</td>\n",
       "      <td>0.543539</td>\n",
       "      <td>-0.158498</td>\n",
       "      <td>0.241797</td>\n",
       "      <td>-0.142182</td>\n",
       "      <td>-0.115119</td>\n",
       "      <td>-0.186625</td>\n",
       "      <td>...</td>\n",
       "      <td>-0.090508</td>\n",
       "      <td>-0.112584</td>\n",
       "      <td>-0.101698</td>\n",
       "      <td>0.620158</td>\n",
       "      <td>-0.099045</td>\n",
       "      <td>0.161497</td>\n",
       "      <td>-0.091559</td>\n",
       "      <td>-0.135491</td>\n",
       "      <td>0.022219</td>\n",
       "      <td>-0.127861</td>\n",
       "    </tr>\n",
       "    <tr>\n",
       "      <th>Release_Day_Wednesday</th>\n",
       "      <td>-0.331734</td>\n",
       "      <td>-0.392495</td>\n",
       "      <td>-0.198914</td>\n",
       "      <td>-0.287157</td>\n",
       "      <td>-0.107665</td>\n",
       "      <td>-0.276982</td>\n",
       "      <td>0.116760</td>\n",
       "      <td>0.417571</td>\n",
       "      <td>0.479681</td>\n",
       "      <td>-0.326135</td>\n",
       "      <td>...</td>\n",
       "      <td>-0.158166</td>\n",
       "      <td>-0.196745</td>\n",
       "      <td>0.431353</td>\n",
       "      <td>-0.146211</td>\n",
       "      <td>-0.173085</td>\n",
       "      <td>-0.334500</td>\n",
       "      <td>-0.160003</td>\n",
       "      <td>0.567129</td>\n",
       "      <td>0.309753</td>\n",
       "      <td>-0.223442</td>\n",
       "    </tr>\n",
       "    <tr>\n",
       "      <th>Release Month_April</th>\n",
       "      <td>-0.058506</td>\n",
       "      <td>0.526276</td>\n",
       "      <td>-0.143446</td>\n",
       "      <td>-0.110236</td>\n",
       "      <td>-0.091839</td>\n",
       "      <td>-0.106330</td>\n",
       "      <td>-0.105665</td>\n",
       "      <td>-0.095384</td>\n",
       "      <td>-0.077229</td>\n",
       "      <td>-0.125200</td>\n",
       "      <td>...</td>\n",
       "      <td>1.000000</td>\n",
       "      <td>-0.075528</td>\n",
       "      <td>-0.068225</td>\n",
       "      <td>-0.056129</td>\n",
       "      <td>-0.066446</td>\n",
       "      <td>-0.128411</td>\n",
       "      <td>-0.061424</td>\n",
       "      <td>-0.090896</td>\n",
       "      <td>-0.110978</td>\n",
       "      <td>-0.085777</td>\n",
       "    </tr>\n",
       "    <tr>\n",
       "      <th>Release Month_August</th>\n",
       "      <td>0.004151</td>\n",
       "      <td>-0.188019</td>\n",
       "      <td>-0.178434</td>\n",
       "      <td>-0.137124</td>\n",
       "      <td>-0.029484</td>\n",
       "      <td>0.532411</td>\n",
       "      <td>-0.131437</td>\n",
       "      <td>-0.008797</td>\n",
       "      <td>-0.096066</td>\n",
       "      <td>-0.155738</td>\n",
       "      <td>...</td>\n",
       "      <td>-0.075528</td>\n",
       "      <td>1.000000</td>\n",
       "      <td>-0.084867</td>\n",
       "      <td>-0.069820</td>\n",
       "      <td>-0.082653</td>\n",
       "      <td>-0.159732</td>\n",
       "      <td>-0.076405</td>\n",
       "      <td>-0.113066</td>\n",
       "      <td>-0.138046</td>\n",
       "      <td>-0.106699</td>\n",
       "    </tr>\n",
       "    <tr>\n",
       "      <th>Release Month_December</th>\n",
       "      <td>-0.183345</td>\n",
       "      <td>-0.078528</td>\n",
       "      <td>0.147726</td>\n",
       "      <td>-0.123866</td>\n",
       "      <td>-0.103194</td>\n",
       "      <td>-0.119477</td>\n",
       "      <td>-0.118729</td>\n",
       "      <td>-0.107178</td>\n",
       "      <td>0.883416</td>\n",
       "      <td>-0.140680</td>\n",
       "      <td>...</td>\n",
       "      <td>-0.068225</td>\n",
       "      <td>-0.084867</td>\n",
       "      <td>1.000000</td>\n",
       "      <td>-0.063069</td>\n",
       "      <td>-0.074661</td>\n",
       "      <td>-0.144287</td>\n",
       "      <td>-0.069018</td>\n",
       "      <td>-0.102134</td>\n",
       "      <td>-0.124699</td>\n",
       "      <td>-0.096383</td>\n",
       "    </tr>\n",
       "    <tr>\n",
       "      <th>Release Month_February</th>\n",
       "      <td>-0.087316</td>\n",
       "      <td>-0.133493</td>\n",
       "      <td>0.143291</td>\n",
       "      <td>-0.101904</td>\n",
       "      <td>0.611165</td>\n",
       "      <td>-0.098294</td>\n",
       "      <td>-0.097678</td>\n",
       "      <td>-0.088175</td>\n",
       "      <td>-0.071392</td>\n",
       "      <td>-0.115737</td>\n",
       "      <td>...</td>\n",
       "      <td>-0.056129</td>\n",
       "      <td>-0.069820</td>\n",
       "      <td>-0.063069</td>\n",
       "      <td>1.000000</td>\n",
       "      <td>-0.061423</td>\n",
       "      <td>-0.118705</td>\n",
       "      <td>-0.056781</td>\n",
       "      <td>-0.084026</td>\n",
       "      <td>-0.102590</td>\n",
       "      <td>-0.079294</td>\n",
       "    </tr>\n",
       "    <tr>\n",
       "      <th>Release Month_July</th>\n",
       "      <td>0.047531</td>\n",
       "      <td>-0.158029</td>\n",
       "      <td>0.463210</td>\n",
       "      <td>-0.120635</td>\n",
       "      <td>-0.100502</td>\n",
       "      <td>0.624899</td>\n",
       "      <td>-0.115632</td>\n",
       "      <td>-0.104382</td>\n",
       "      <td>-0.084514</td>\n",
       "      <td>-0.137010</td>\n",
       "      <td>...</td>\n",
       "      <td>-0.066446</td>\n",
       "      <td>-0.082653</td>\n",
       "      <td>-0.074661</td>\n",
       "      <td>-0.061423</td>\n",
       "      <td>1.000000</td>\n",
       "      <td>-0.140523</td>\n",
       "      <td>-0.067217</td>\n",
       "      <td>-0.099470</td>\n",
       "      <td>-0.121446</td>\n",
       "      <td>-0.093868</td>\n",
       "    </tr>\n",
       "    <tr>\n",
       "      <th>Release Month_June</th>\n",
       "      <td>0.098397</td>\n",
       "      <td>0.201940</td>\n",
       "      <td>-0.173135</td>\n",
       "      <td>0.858466</td>\n",
       "      <td>-0.194228</td>\n",
       "      <td>-0.224874</td>\n",
       "      <td>0.091863</td>\n",
       "      <td>-0.201725</td>\n",
       "      <td>-0.163329</td>\n",
       "      <td>0.742822</td>\n",
       "      <td>...</td>\n",
       "      <td>-0.128411</td>\n",
       "      <td>-0.159732</td>\n",
       "      <td>-0.144287</td>\n",
       "      <td>-0.118705</td>\n",
       "      <td>-0.140523</td>\n",
       "      <td>1.000000</td>\n",
       "      <td>-0.129902</td>\n",
       "      <td>-0.192232</td>\n",
       "      <td>-0.234702</td>\n",
       "      <td>-0.181407</td>\n",
       "    </tr>\n",
       "    <tr>\n",
       "      <th>Release Month_March</th>\n",
       "      <td>0.139687</td>\n",
       "      <td>0.445319</td>\n",
       "      <td>0.317839</td>\n",
       "      <td>-0.111517</td>\n",
       "      <td>-0.092906</td>\n",
       "      <td>-0.107565</td>\n",
       "      <td>-0.106892</td>\n",
       "      <td>-0.096492</td>\n",
       "      <td>-0.078126</td>\n",
       "      <td>-0.007834</td>\n",
       "      <td>...</td>\n",
       "      <td>-0.061424</td>\n",
       "      <td>-0.076405</td>\n",
       "      <td>-0.069018</td>\n",
       "      <td>-0.056781</td>\n",
       "      <td>-0.067217</td>\n",
       "      <td>-0.129902</td>\n",
       "      <td>1.000000</td>\n",
       "      <td>-0.091952</td>\n",
       "      <td>-0.112267</td>\n",
       "      <td>-0.086773</td>\n",
       "    </tr>\n",
       "    <tr>\n",
       "      <th>Release Month_November</th>\n",
       "      <td>-0.219041</td>\n",
       "      <td>-0.021582</td>\n",
       "      <td>-0.214740</td>\n",
       "      <td>-0.165025</td>\n",
       "      <td>0.046716</td>\n",
       "      <td>-0.159177</td>\n",
       "      <td>0.390641</td>\n",
       "      <td>-0.142791</td>\n",
       "      <td>0.081244</td>\n",
       "      <td>-0.187425</td>\n",
       "      <td>...</td>\n",
       "      <td>-0.090896</td>\n",
       "      <td>-0.113066</td>\n",
       "      <td>-0.102134</td>\n",
       "      <td>-0.084026</td>\n",
       "      <td>-0.099470</td>\n",
       "      <td>-0.192232</td>\n",
       "      <td>-0.091952</td>\n",
       "      <td>1.000000</td>\n",
       "      <td>-0.166135</td>\n",
       "      <td>-0.128409</td>\n",
       "    </tr>\n",
       "    <tr>\n",
       "      <th>Release Month_October</th>\n",
       "      <td>-0.200615</td>\n",
       "      <td>-0.420313</td>\n",
       "      <td>0.071751</td>\n",
       "      <td>-0.201484</td>\n",
       "      <td>0.017715</td>\n",
       "      <td>-0.194345</td>\n",
       "      <td>0.131055</td>\n",
       "      <td>0.634288</td>\n",
       "      <td>-0.141155</td>\n",
       "      <td>-0.228834</td>\n",
       "      <td>...</td>\n",
       "      <td>-0.110978</td>\n",
       "      <td>-0.138046</td>\n",
       "      <td>-0.124699</td>\n",
       "      <td>-0.102590</td>\n",
       "      <td>-0.121446</td>\n",
       "      <td>-0.234702</td>\n",
       "      <td>-0.112267</td>\n",
       "      <td>-0.166135</td>\n",
       "      <td>1.000000</td>\n",
       "      <td>-0.156779</td>\n",
       "    </tr>\n",
       "    <tr>\n",
       "      <th>Release Month_September</th>\n",
       "      <td>0.449836</td>\n",
       "      <td>-0.011713</td>\n",
       "      <td>-0.202647</td>\n",
       "      <td>-0.155732</td>\n",
       "      <td>0.092282</td>\n",
       "      <td>0.039641</td>\n",
       "      <td>-0.149273</td>\n",
       "      <td>0.037702</td>\n",
       "      <td>-0.109102</td>\n",
       "      <td>0.039775</td>\n",
       "      <td>...</td>\n",
       "      <td>-0.085777</td>\n",
       "      <td>-0.106699</td>\n",
       "      <td>-0.096383</td>\n",
       "      <td>-0.079294</td>\n",
       "      <td>-0.093868</td>\n",
       "      <td>-0.181407</td>\n",
       "      <td>-0.086773</td>\n",
       "      <td>-0.128409</td>\n",
       "      <td>-0.156779</td>\n",
       "      <td>1.000000</td>\n",
       "    </tr>\n",
       "  </tbody>\n",
       "</table>\n",
       "<p>24 rows × 24 columns</p>\n",
       "</div>"
      ],
      "text/plain": [
       "                         Sale Price  Retail Price  Color_Black  Color_Blue  \\\n",
       "Sale Price                 1.000000      0.085411    -0.203276    0.239790   \n",
       "Retail Price               0.085411      1.000000     0.095431    0.143706   \n",
       "Color_Black               -0.203276      0.095431     1.000000   -0.260432   \n",
       "Color_Blue                 0.239790      0.143706    -0.260432    1.000000   \n",
       "Air_Max                   -0.026162     -0.079574     0.038675   -0.166738   \n",
       "Presto                     0.111650     -0.252888     0.177353   -0.193047   \n",
       "Zoom_Fly                  -0.443259     -0.004374     0.176897   -0.191838   \n",
       "Blazer                    -0.079355     -0.578055    -0.225344   -0.173174   \n",
       "Air_Force                 -0.153419     -0.091255     0.095908   -0.140212   \n",
       "Jordan_1                   0.538312      0.163213    -0.295783    0.880483   \n",
       "Release_Day_Friday        -0.004220      0.055543     0.409205   -0.211568   \n",
       "Release_Day_Saturday       0.442569      0.304093    -0.275976    0.540491   \n",
       "Release_Day_Thursday      -0.200697      0.023447     0.209588   -0.164320   \n",
       "Release_Day_Wednesday     -0.331734     -0.392495    -0.198914   -0.287157   \n",
       "Release Month_April       -0.058506      0.526276    -0.143446   -0.110236   \n",
       "Release Month_August       0.004151     -0.188019    -0.178434   -0.137124   \n",
       "Release Month_December    -0.183345     -0.078528     0.147726   -0.123866   \n",
       "Release Month_February    -0.087316     -0.133493     0.143291   -0.101904   \n",
       "Release Month_July         0.047531     -0.158029     0.463210   -0.120635   \n",
       "Release Month_June         0.098397      0.201940    -0.173135    0.858466   \n",
       "Release Month_March        0.139687      0.445319     0.317839   -0.111517   \n",
       "Release Month_November    -0.219041     -0.021582    -0.214740   -0.165025   \n",
       "Release Month_October     -0.200615     -0.420313     0.071751   -0.201484   \n",
       "Release Month_September    0.449836     -0.011713    -0.202647   -0.155732   \n",
       "\n",
       "                          Air_Max    Presto  Zoom_Fly    Blazer  Air_Force  \\\n",
       "Sale Price              -0.026162  0.111650 -0.443259 -0.079355  -0.153419   \n",
       "Retail Price            -0.079574 -0.252888 -0.004374 -0.578055  -0.091255   \n",
       "Color_Black              0.038675  0.177353  0.176897 -0.225344   0.095908   \n",
       "Color_Blue              -0.166738 -0.193047 -0.191838 -0.173174  -0.140212   \n",
       "Air_Max                  1.000000 -0.160830 -0.159823 -0.144274  -0.116813   \n",
       "Presto                  -0.160830  1.000000 -0.185041 -0.167038  -0.135244   \n",
       "Zoom_Fly                -0.159823 -0.185041  1.000000 -0.165992  -0.134398   \n",
       "Blazer                  -0.144274 -0.167038 -0.165992  1.000000  -0.121322   \n",
       "Air_Force               -0.116813 -0.135244 -0.134398 -0.121322   1.000000   \n",
       "Jordan_1                -0.189371 -0.219251 -0.217878 -0.196681  -0.159245   \n",
       "Release_Day_Friday      -0.176260  0.759935 -0.202794 -0.183064  -0.148220   \n",
       "Release_Day_Saturday    -0.119804 -0.237162 -0.107813 -0.148731  -0.251460   \n",
       "Release_Day_Thursday     0.543539 -0.158498  0.241797 -0.142182  -0.115119   \n",
       "Release_Day_Wednesday   -0.107665 -0.276982  0.116760  0.417571   0.479681   \n",
       "Release Month_April     -0.091839 -0.106330 -0.105665 -0.095384  -0.077229   \n",
       "Release Month_August    -0.029484  0.532411 -0.131437 -0.008797  -0.096066   \n",
       "Release Month_December  -0.103194 -0.119477 -0.118729 -0.107178   0.883416   \n",
       "Release Month_February   0.611165 -0.098294 -0.097678 -0.088175  -0.071392   \n",
       "Release Month_July      -0.100502  0.624899 -0.115632 -0.104382  -0.084514   \n",
       "Release Month_June      -0.194228 -0.224874  0.091863 -0.201725  -0.163329   \n",
       "Release Month_March     -0.092906 -0.107565 -0.106892 -0.096492  -0.078126   \n",
       "Release Month_November   0.046716 -0.159177  0.390641 -0.142791   0.081244   \n",
       "Release Month_October    0.017715 -0.194345  0.131055  0.634288  -0.141155   \n",
       "Release Month_September  0.092282  0.039641 -0.149273  0.037702  -0.109102   \n",
       "\n",
       "                         Jordan_1  ...  Release Month_April  \\\n",
       "Sale Price               0.538312  ...            -0.058506   \n",
       "Retail Price             0.163213  ...             0.526276   \n",
       "Color_Black             -0.295783  ...            -0.143446   \n",
       "Color_Blue               0.880483  ...            -0.110236   \n",
       "Air_Max                 -0.189371  ...            -0.091839   \n",
       "Presto                  -0.219251  ...            -0.106330   \n",
       "Zoom_Fly                -0.217878  ...            -0.105665   \n",
       "Blazer                  -0.196681  ...            -0.095384   \n",
       "Air_Force               -0.159245  ...            -0.077229   \n",
       "Jordan_1                 1.000000  ...            -0.125200   \n",
       "Release_Day_Friday      -0.240286  ...            -0.116532   \n",
       "Release_Day_Saturday     0.613858  ...             0.297703   \n",
       "Release_Day_Thursday    -0.186625  ...            -0.090508   \n",
       "Release_Day_Wednesday   -0.326135  ...            -0.158166   \n",
       "Release Month_April     -0.125200  ...             1.000000   \n",
       "Release Month_August    -0.155738  ...            -0.075528   \n",
       "Release Month_December  -0.140680  ...            -0.068225   \n",
       "Release Month_February  -0.115737  ...            -0.056129   \n",
       "Release Month_July      -0.137010  ...            -0.066446   \n",
       "Release Month_June       0.742822  ...            -0.128411   \n",
       "Release Month_March     -0.007834  ...            -0.061424   \n",
       "Release Month_November  -0.187425  ...            -0.090896   \n",
       "Release Month_October   -0.228834  ...            -0.110978   \n",
       "Release Month_September  0.039775  ...            -0.085777   \n",
       "\n",
       "                         Release Month_August  Release Month_December  \\\n",
       "Sale Price                           0.004151               -0.183345   \n",
       "Retail Price                        -0.188019               -0.078528   \n",
       "Color_Black                         -0.178434                0.147726   \n",
       "Color_Blue                          -0.137124               -0.123866   \n",
       "Air_Max                             -0.029484               -0.103194   \n",
       "Presto                               0.532411               -0.119477   \n",
       "Zoom_Fly                            -0.131437               -0.118729   \n",
       "Blazer                              -0.008797               -0.107178   \n",
       "Air_Force                           -0.096066                0.883416   \n",
       "Jordan_1                            -0.155738               -0.140680   \n",
       "Release_Day_Friday                   0.480678               -0.130940   \n",
       "Release_Day_Saturday                -0.121945               -0.229173   \n",
       "Release_Day_Thursday                -0.112584               -0.101698   \n",
       "Release_Day_Wednesday               -0.196745                0.431353   \n",
       "Release Month_April                 -0.075528               -0.068225   \n",
       "Release Month_August                 1.000000               -0.084867   \n",
       "Release Month_December              -0.084867                1.000000   \n",
       "Release Month_February              -0.069820               -0.063069   \n",
       "Release Month_July                  -0.082653               -0.074661   \n",
       "Release Month_June                  -0.159732               -0.144287   \n",
       "Release Month_March                 -0.076405               -0.069018   \n",
       "Release Month_November              -0.113066               -0.102134   \n",
       "Release Month_October               -0.138046               -0.124699   \n",
       "Release Month_September             -0.106699               -0.096383   \n",
       "\n",
       "                         Release Month_February  Release Month_July  \\\n",
       "Sale Price                            -0.087316            0.047531   \n",
       "Retail Price                          -0.133493           -0.158029   \n",
       "Color_Black                            0.143291            0.463210   \n",
       "Color_Blue                            -0.101904           -0.120635   \n",
       "Air_Max                                0.611165           -0.100502   \n",
       "Presto                                -0.098294            0.624899   \n",
       "Zoom_Fly                              -0.097678           -0.115632   \n",
       "Blazer                                -0.088175           -0.104382   \n",
       "Air_Force                             -0.071392           -0.084514   \n",
       "Jordan_1                              -0.115737           -0.137010   \n",
       "Release_Day_Friday                    -0.107724            0.570193   \n",
       "Release_Day_Saturday                  -0.188540           -0.223194   \n",
       "Release_Day_Thursday                   0.620158           -0.099045   \n",
       "Release_Day_Wednesday                 -0.146211           -0.173085   \n",
       "Release Month_April                   -0.056129           -0.066446   \n",
       "Release Month_August                  -0.069820           -0.082653   \n",
       "Release Month_December                -0.063069           -0.074661   \n",
       "Release Month_February                 1.000000           -0.061423   \n",
       "Release Month_July                    -0.061423            1.000000   \n",
       "Release Month_June                    -0.118705           -0.140523   \n",
       "Release Month_March                   -0.056781           -0.067217   \n",
       "Release Month_November                -0.084026           -0.099470   \n",
       "Release Month_October                 -0.102590           -0.121446   \n",
       "Release Month_September               -0.079294           -0.093868   \n",
       "\n",
       "                         Release Month_June  Release Month_March  \\\n",
       "Sale Price                         0.098397             0.139687   \n",
       "Retail Price                       0.201940             0.445319   \n",
       "Color_Black                       -0.173135             0.317839   \n",
       "Color_Blue                         0.858466            -0.111517   \n",
       "Air_Max                           -0.194228            -0.092906   \n",
       "Presto                            -0.224874            -0.107565   \n",
       "Zoom_Fly                           0.091863            -0.106892   \n",
       "Blazer                            -0.201725            -0.096492   \n",
       "Air_Force                         -0.163329            -0.078126   \n",
       "Jordan_1                           0.742822            -0.007834   \n",
       "Release_Day_Friday                -0.246449             0.402939   \n",
       "Release_Day_Saturday               0.397074            -0.108635   \n",
       "Release_Day_Thursday               0.161497            -0.091559   \n",
       "Release_Day_Wednesday             -0.334500            -0.160003   \n",
       "Release Month_April               -0.128411            -0.061424   \n",
       "Release Month_August              -0.159732            -0.076405   \n",
       "Release Month_December            -0.144287            -0.069018   \n",
       "Release Month_February            -0.118705            -0.056781   \n",
       "Release Month_July                -0.140523            -0.067217   \n",
       "Release Month_June                 1.000000            -0.129902   \n",
       "Release Month_March               -0.129902             1.000000   \n",
       "Release Month_November            -0.192232            -0.091952   \n",
       "Release Month_October             -0.234702            -0.112267   \n",
       "Release Month_September           -0.181407            -0.086773   \n",
       "\n",
       "                         Release Month_November  Release Month_October  \\\n",
       "Sale Price                            -0.219041              -0.200615   \n",
       "Retail Price                          -0.021582              -0.420313   \n",
       "Color_Black                           -0.214740               0.071751   \n",
       "Color_Blue                            -0.165025              -0.201484   \n",
       "Air_Max                                0.046716               0.017715   \n",
       "Presto                                -0.159177              -0.194345   \n",
       "Zoom_Fly                               0.390641               0.131055   \n",
       "Blazer                                -0.142791               0.634288   \n",
       "Air_Force                              0.081244              -0.141155   \n",
       "Jordan_1                              -0.187425              -0.228834   \n",
       "Release_Day_Friday                    -0.174449              -0.212991   \n",
       "Release_Day_Saturday                  -0.298330              -0.133723   \n",
       "Release_Day_Thursday                  -0.135491               0.022219   \n",
       "Release_Day_Wednesday                  0.567129               0.309753   \n",
       "Release Month_April                   -0.090896              -0.110978   \n",
       "Release Month_August                  -0.113066              -0.138046   \n",
       "Release Month_December                -0.102134              -0.124699   \n",
       "Release Month_February                -0.084026              -0.102590   \n",
       "Release Month_July                    -0.099470              -0.121446   \n",
       "Release Month_June                    -0.192232              -0.234702   \n",
       "Release Month_March                   -0.091952              -0.112267   \n",
       "Release Month_November                 1.000000              -0.166135   \n",
       "Release Month_October                 -0.166135               1.000000   \n",
       "Release Month_September               -0.128409              -0.156779   \n",
       "\n",
       "                         Release Month_September  \n",
       "Sale Price                              0.449836  \n",
       "Retail Price                           -0.011713  \n",
       "Color_Black                            -0.202647  \n",
       "Color_Blue                             -0.155732  \n",
       "Air_Max                                 0.092282  \n",
       "Presto                                  0.039641  \n",
       "Zoom_Fly                               -0.149273  \n",
       "Blazer                                  0.037702  \n",
       "Air_Force                              -0.109102  \n",
       "Jordan_1                                0.039775  \n",
       "Release_Day_Friday                     -0.164625  \n",
       "Release_Day_Saturday                    0.420567  \n",
       "Release_Day_Thursday                   -0.127861  \n",
       "Release_Day_Wednesday                  -0.223442  \n",
       "Release Month_April                    -0.085777  \n",
       "Release Month_August                   -0.106699  \n",
       "Release Month_December                 -0.096383  \n",
       "Release Month_February                 -0.079294  \n",
       "Release Month_July                     -0.093868  \n",
       "Release Month_June                     -0.181407  \n",
       "Release Month_March                    -0.086773  \n",
       "Release Month_November                 -0.128409  \n",
       "Release Month_October                  -0.156779  \n",
       "Release Month_September                 1.000000  \n",
       "\n",
       "[24 rows x 24 columns]"
      ]
     },
     "execution_count": 86,
     "metadata": {},
     "output_type": "execute_result"
    }
   ],
   "source": [
    "#Looking at the correlation values for each predictor relative to each other and the target\n",
    "shoes_ow.corr(method='pearson')"
   ]
  },
  {
   "cell_type": "code",
   "execution_count": 87,
   "metadata": {},
   "outputs": [
    {
     "name": "stdout",
     "output_type": "stream",
     "text": [
      "                            OLS Regression Results                            \n",
      "==============================================================================\n",
      "Dep. Variable:             Sale Price   R-squared:                       0.771\n",
      "Model:                            OLS   Adj. R-squared:                  0.771\n",
      "Method:                 Least Squares   F-statistic:                     3567.\n",
      "Date:                Tue, 16 Feb 2021   Prob (F-statistic):               0.00\n",
      "Time:                        13:23:33   Log-Likelihood:            -1.4437e+05\n",
      "No. Observations:               22235   AIC:                         2.888e+05\n",
      "Df Residuals:                   22213   BIC:                         2.890e+05\n",
      "Df Model:                          21                                         \n",
      "Covariance Type:            nonrobust                                         \n",
      "===========================================================================================\n",
      "                              coef    std err          t      P>|t|      [0.025      0.975]\n",
      "-------------------------------------------------------------------------------------------\n",
      "Retail Price                4.4547      0.186     24.013      0.000       4.091       4.818\n",
      "Color_Black                66.4434      4.745     14.002      0.000      57.142      75.745\n",
      "Color_Blue               -478.6508     18.975    -25.225      0.000    -515.844    -441.458\n",
      "Air_Max                   223.9247     12.452     17.983      0.000     199.517     248.332\n",
      "Presto                    696.8549     16.631     41.902      0.000     664.258     729.452\n",
      "Zoom_Fly                  -38.7460     12.608     -3.073      0.002     -63.460     -14.032\n",
      "Blazer                    393.9577     21.512     18.313      0.000     351.792     436.123\n",
      "Air_Force                 376.2549     14.514     25.924      0.000     347.807     404.703\n",
      "Jordan_1                 1118.5572     11.858     94.333      0.000    1095.316    1141.799\n",
      "Release_Day_Friday       -786.0795     31.740    -24.766      0.000    -848.293    -723.866\n",
      "Release_Day_Saturday     -260.1928     30.130     -8.636      0.000    -319.250    -201.136\n",
      "Release_Day_Thursday     -187.8585     34.631     -5.425      0.000    -255.737    -119.980\n",
      "Release_Day_Wednesday    -210.6260     33.226     -6.339      0.000    -275.752    -145.500\n",
      "Release Month_April      -262.6175     18.836    -13.942      0.000    -299.537    -225.698\n",
      "Release Month_August       24.5954     17.673      1.392      0.164     -10.044      59.235\n",
      "Release Month_December   -505.1323     17.515    -28.840      0.000    -539.463    -470.802\n",
      "Release Month_February   -240.5324     10.629    -22.629      0.000    -261.367    -219.698\n",
      "Release Month_July         38.6015     17.723      2.178      0.029       3.864      73.339\n",
      "Release Month_June       -376.2912     18.210    -20.664      0.000    -411.984    -340.599\n",
      "Release Month_March       213.7616     18.349     11.650      0.000     177.797     249.727\n",
      "Release Month_November   -177.9169     14.529    -12.246      0.000    -206.394    -149.440\n",
      "Release Month_October    -199.0396     12.742    -15.621      0.000    -224.015    -174.065\n",
      "Release Month_September    39.8146     16.056      2.480      0.013       8.344      71.285\n",
      "==============================================================================\n",
      "Omnibus:                    11918.996   Durbin-Watson:                   2.007\n",
      "Prob(Omnibus):                  0.000   Jarque-Bera (JB):           298848.308\n",
      "Skew:                           2.068   Prob(JB):                         0.00\n",
      "Kurtosis:                      20.478   Cond. No.                     5.60e+17\n",
      "==============================================================================\n",
      "\n",
      "Warnings:\n",
      "[1] Standard Errors assume that the covariance matrix of the errors is correctly specified.\n",
      "[2] The smallest eigenvalue is 2.36e-27. This might indicate that there are\n",
      "strong multicollinearity problems or that the design matrix is singular.\n"
     ]
    }
   ],
   "source": [
    "# Create the linear model: lm1 for our off-white data\n",
    "lm1_ow = sm.OLS(y_train_ow, x_train_ow).fit()\n",
    "\n",
    "# Inspect the results\n",
    "print(lm1_ow.summary())"
   ]
  },
  {
   "cell_type": "markdown",
   "metadata": {},
   "source": [
    "Lets examine some of the results from this model:\n",
    "\n",
    "<br> **R Squared/Adjusted R Squared:** the model explains 77.1% of the variability of the response data around its mean\n",
    "<br> **Durbin Watson:** A durbin watson value of 2.007 indicates we have no issue of autocorrelation in our model\n",
    "<br> **Kurtosis:** A value of 20.478 indicates we have very heavy \"tails\" in our distribution (to be expected)\n",
    "<br> **AIC:** 288800; The likelihood of the model to predict/estimate future values (used for model comparison)\n",
    "<br> **BIC:** 289000; Similar to our AIC value, used for model comparison\n",
    "<br> **P Values:** All of our p values for our variables seem significant except for the Release Month of August, July, and September (we are using a 0.005 cutoff for our p values due to our sample size and wanting a fair amount of evidence)"
   ]
  },
  {
   "cell_type": "code",
   "execution_count": 88,
   "metadata": {},
   "outputs": [
    {
     "data": {
      "image/png": "[encoded data removed]",
      "text/plain": [
       "<Figure size 432x288 with 1 Axes>"
      ]
     },
     "execution_count": 88,
     "metadata": {},
     "output_type": "execute_result"
    },
    {
     "data": {
      "image/png": "[encoded data removed]",
      "text/plain": [
       "<Figure size 432x288 with 1 Axes>"
      ]
     },
     "metadata": {
      "needs_background": "light"
     },
     "output_type": "display_data"
    }
   ],
   "source": [
    "# Getting test predictions\n",
    "test_preds_ow1 = lm1_ow.predict(x_test_ow)\n",
    "\n",
    "# Calculating residuals\n",
    "residuals_ow1 = test_preds_ow1 - y_test_ow\n",
    "\n",
    "# Making QQ-plot of residuals\n",
    "sm.qqplot(residuals_ow1,line=\"s\")"
   ]
  },
  {
   "cell_type": "code",
   "execution_count": 89,
   "metadata": {},
   "outputs": [
    {
     "data": {
      "text/plain": [
       "14.365838808341259"
      ]
     },
     "execution_count": 89,
     "metadata": {},
     "output_type": "execute_result"
    }
   ],
   "source": [
    "# Calculate the MAPE\n",
    "lm1_ow_mape = np.mean(100 * abs((residuals_ow1/y_test_ow)))\n",
    "lm1_ow_mape"
   ]
  },
  {
   "cell_type": "markdown",
   "metadata": {},
   "source": [
    "### Second Linear Regression Model for Yeezy using a Transformed Target"
   ]
  },
  {
   "cell_type": "code",
   "execution_count": 90,
   "metadata": {},
   "outputs": [],
   "source": [
    "# Multiple Linear Regression with sqrt transform (transform our target for ow and yeezy)\n",
    "y_train_yeezy_sqrt = np.sqrt(y_train_yeezy)\n",
    "y_train_ow_sqrt = np.sqrt(y_train_ow)\n",
    "y_test_yeezy_sqrt = np.sqrt(y_test_yeezy)\n",
    "y_test_ow_sqrt = np.sqrt(y_test_ow)"
   ]
  },
  {
   "cell_type": "code",
   "execution_count": 91,
   "metadata": {},
   "outputs": [
    {
     "name": "stdout",
     "output_type": "stream",
     "text": [
      "                            OLS Regression Results                            \n",
      "==============================================================================\n",
      "Dep. Variable:             Sale Price   R-squared:                       0.631\n",
      "Model:                            OLS   Adj. R-squared:                  0.631\n",
      "Method:                 Least Squares   F-statistic:                     7607.\n",
      "Date:                Tue, 16 Feb 2021   Prob (F-statistic):               0.00\n",
      "Time:                        13:23:37   Log-Likelihood:            -1.2202e+05\n",
      "No. Observations:               57729   AIC:                         2.441e+05\n",
      "Df Residuals:                   57715   BIC:                         2.442e+05\n",
      "Df Model:                          13                                         \n",
      "Covariance Type:            nonrobust                                         \n",
      "===========================================================================================\n",
      "                              coef    std err          t      P>|t|      [0.025      0.975]\n",
      "-------------------------------------------------------------------------------------------\n",
      "Retail Price                0.1473      0.001    270.061      0.000       0.146       0.148\n",
      "Color_Black                 7.5573      0.048    156.784      0.000       7.463       7.652\n",
      "Color_Blue                 -0.8166      0.069    -11.861      0.000      -0.952      -0.682\n",
      "Yeezy_V2                  -15.8661      0.141   -112.910      0.000     -16.142     -15.591\n",
      "Release_Day_Friday         -1.8409      0.075    -24.480      0.000      -1.988      -1.694\n",
      "Release_Day_Saturday        1.7515      0.073     24.040      0.000       1.609       1.894\n",
      "Release_Day_Thursday       -1.5886      0.073    -21.824      0.000      -1.731      -1.446\n",
      "Release_Day_Tuesday         0.4113      0.241      1.705      0.088      -0.062       0.884\n",
      "Release_Day_Wednesday       2.8540      0.071     40.145      0.000       2.715       2.993\n",
      "Release Month_April        -1.4366      0.048    -30.159      0.000      -1.530      -1.343\n",
      "Release Month_August       -8.8792      0.228    -38.999      0.000      -9.325      -8.433\n",
      "Release Month_December      1.9724      0.069     28.471      0.000       1.837       2.108\n",
      "Release Month_February      0.6440      0.046     14.025      0.000       0.554       0.734\n",
      "Release Month_June         -1.8315      0.046    -39.447      0.000      -1.922      -1.740\n",
      "Release Month_November      1.4399      0.045     31.794      0.000       1.351       1.529\n",
      "Release Month_September     9.6782      0.095    101.452      0.000       9.491       9.865\n",
      "==============================================================================\n",
      "Omnibus:                    20769.641   Durbin-Watson:                   1.987\n",
      "Prob(Omnibus):                  0.000   Jarque-Bera (JB):           130454.035\n",
      "Skew:                           1.596   Prob(JB):                         0.00\n",
      "Kurtosis:                       9.636   Cond. No.                     2.32e+17\n",
      "==============================================================================\n",
      "\n",
      "Warnings:\n",
      "[1] Standard Errors assume that the covariance matrix of the errors is correctly specified.\n",
      "[2] The smallest eigenvalue is 5.19e-26. This might indicate that there are\n",
      "strong multicollinearity problems or that the design matrix is singular.\n"
     ]
    }
   ],
   "source": [
    "# Create the linear model: lm2 for our yeezy data\n",
    "lm2_yeezy = sm.OLS(y_train_yeezy_sqrt, x_train_yeezy).fit()\n",
    "\n",
    "# Inspect the results\n",
    "print(lm2_yeezy.summary())"
   ]
  },
  {
   "cell_type": "markdown",
   "metadata": {},
   "source": [
    "Lets examine some of the results from this model:\n",
    "\n",
    "<br> **R Squared/Adjusted R Squared:** the model explains 63.1% of the variability of the response data around its mean (it has gone down from our first model)\n",
    "<br> **Durbin Watson:** A durbin watson value of 1.987 indicates we have no issue of autocorrelation in our model\n",
    "<br> **Kurtosis:** A value of 9.636 indicates we have heavy tails still, but it has gone down a lot\n",
    "<br> **AIC:** 244100; The likelihood of the model to predict/estimate future values (used for model comparison)\n",
    "<br> **BIC:** 244100; Similar to our AIC value, used for model comparison\n",
    "<br> **P Values:** All of our p values for our variables seem significant except for the Release Day of Tuesday still (we are using a 0.005 cutoff for our p values due to our sample size and wanting a fair amount of evidence)"
   ]
  },
  {
   "cell_type": "code",
   "execution_count": 92,
   "metadata": {},
   "outputs": [
    {
     "data": {
      "image/png": "[encoded data removed]",
      "text/plain": [
       "<Figure size 432x288 with 1 Axes>"
      ]
     },
     "execution_count": 92,
     "metadata": {},
     "output_type": "execute_result"
    },
    {
     "data": {
      "image/png": "[encoded data removed]",
      "text/plain": [
       "<Figure size 432x288 with 1 Axes>"
      ]
     },
     "metadata": {
      "needs_background": "light"
     },
     "output_type": "display_data"
    }
   ],
   "source": [
    "# Getting test predictions\n",
    "test_preds_yeezy = lm2_yeezy.predict(x_test_yeezy)\n",
    "\n",
    "# Calculating residuals\n",
    "residuals_yeezy2 = np.exp(test_preds_yeezy) - y_test_yeezy_sqrt\n",
    "\n",
    "# Making QQ-plot of the residuals\n",
    "sm.qqplot(residuals_yeezy2,line=\"s\")"
   ]
  },
  {
   "cell_type": "code",
   "execution_count": 93,
   "metadata": {},
   "outputs": [
    {
     "data": {
      "text/plain": [
       "18882131219928.39"
      ]
     },
     "execution_count": 93,
     "metadata": {},
     "output_type": "execute_result"
    }
   ],
   "source": [
    "# Calculate the MAPE: On average, the square root transformed linear model is 188821312199.28% off in predicting our sale price (YIKES)\n",
    "lm2_sqrty_mape = np.mean(100 * abs(residuals_yeezy2/y_test_yeezy_sqrt))\n",
    "lm2_sqrty_mape"
   ]
  },
  {
   "cell_type": "markdown",
   "metadata": {},
   "source": [
    "### Second Linear Regression Model for Off-White using a Transformed Target"
   ]
  },
  {
   "cell_type": "code",
   "execution_count": 94,
   "metadata": {},
   "outputs": [
    {
     "name": "stdout",
     "output_type": "stream",
     "text": [
      "                            OLS Regression Results                            \n",
      "==============================================================================\n",
      "Dep. Variable:             Sale Price   R-squared:                       0.797\n",
      "Model:                            OLS   Adj. R-squared:                  0.797\n",
      "Method:                 Least Squares   F-statistic:                     4155.\n",
      "Date:                Tue, 16 Feb 2021   Prob (F-statistic):               0.00\n",
      "Time:                        13:23:50   Log-Likelihood:                -52605.\n",
      "No. Observations:               22235   AIC:                         1.053e+05\n",
      "Df Residuals:                   22213   BIC:                         1.054e+05\n",
      "Df Model:                          21                                         \n",
      "Covariance Type:            nonrobust                                         \n",
      "===========================================================================================\n",
      "                              coef    std err          t      P>|t|      [0.025      0.975]\n",
      "-------------------------------------------------------------------------------------------\n",
      "Retail Price                0.0824      0.003     27.542      0.000       0.077       0.088\n",
      "Color_Black                 1.5436      0.077     20.169      0.000       1.394       1.694\n",
      "Color_Blue                 -4.2289      0.306    -13.818      0.000      -4.829      -3.629\n",
      "Air_Max                     4.3843      0.201     21.831      0.000       3.991       4.778\n",
      "Presto                     12.1315      0.268     45.229      0.000      11.606      12.657\n",
      "Zoom_Fly                   -1.9173      0.203     -9.428      0.000      -2.316      -1.519\n",
      "Blazer                      7.4441      0.347     21.456      0.000       6.764       8.124\n",
      "Air_Force                   7.0841      0.234     30.264      0.000       6.625       7.543\n",
      "Jordan_1                   16.6680      0.191     87.157      0.000      16.293      17.043\n",
      "Release_Day_Friday         -4.7688      0.512     -9.316      0.000      -5.772      -3.765\n",
      "Release_Day_Saturday        4.2563      0.486      8.759      0.000       3.304       5.209\n",
      "Release_Day_Thursday        5.8840      0.559     10.535      0.000       4.789       6.979\n",
      "Release_Day_Wednesday       5.4934      0.536     10.251      0.000       4.443       6.544\n",
      "Release Month_April        -0.5902      0.304     -1.943      0.052      -1.186       0.005\n",
      "Release Month_August        4.7551      0.285     16.683      0.000       4.196       5.314\n",
      "Release Month_December     -6.2066      0.282    -21.972      0.000      -6.760      -5.653\n",
      "Release Month_February     -0.9844      0.171     -5.742      0.000      -1.320      -0.648\n",
      "Release Month_July          4.8535      0.286     16.980      0.000       4.293       5.414\n",
      "Release Month_June         -3.3525      0.294    -11.415      0.000      -3.928      -2.777\n",
      "Release Month_March         7.3549      0.296     24.853      0.000       6.775       7.935\n",
      "Release Month_November      0.3331      0.234      1.422      0.155      -0.126       0.792\n",
      "Release Month_October       0.0333      0.206      0.162      0.871      -0.369       0.436\n",
      "Release Month_September     4.6687      0.259     18.029      0.000       4.161       5.176\n",
      "==============================================================================\n",
      "Omnibus:                     6244.921   Durbin-Watson:                   2.009\n",
      "Prob(Omnibus):                  0.000   Jarque-Bera (JB):            36093.928\n",
      "Skew:                           1.227   Prob(JB):                         0.00\n",
      "Kurtosis:                       8.739   Cond. No.                     5.60e+17\n",
      "==============================================================================\n",
      "\n",
      "Warnings:\n",
      "[1] Standard Errors assume that the covariance matrix of the errors is correctly specified.\n",
      "[2] The smallest eigenvalue is 2.36e-27. This might indicate that there are\n",
      "strong multicollinearity problems or that the design matrix is singular.\n"
     ]
    }
   ],
   "source": [
    "# Create the linear model: lm2 for our off-white data\n",
    "lm2_ow = sm.OLS(y_train_ow_sqrt, x_train_ow).fit()\n",
    "\n",
    "# Inspect the results\n",
    "print(lm2_ow.summary())"
   ]
  },
  {
   "cell_type": "markdown",
   "metadata": {},
   "source": [
    "Lets examine some of the results from this model:\n",
    "\n",
    "<br> **R Squared/Adjusted R Squared:** the model explains 79.7% of the variability of the response data around its mean (it has gone up from our first model)\n",
    "<br> **Durbin Watson:** A durbin watson value of 2.009 indicates we have no issue of autocorrelation in our model\n",
    "<br> **Kurtosis:** A value of 8.739 indicates we have heavy tails still, but it has gone down a lot\n",
    "<br> **AIC:** 105300; The likelihood of the model to predict/estimate future values (used for model comparison)\n",
    "<br> **BIC:** 105300; Similar to our AIC value, used for model comparison\n",
    "<br> **P Values:** All of our p values for our variables seem significant except for the Release Month of April, November, and October (we are using a 0.005 cutoff for our p values due to our sample size and wanting a fair amount of evidence)"
   ]
  },
  {
   "cell_type": "code",
   "execution_count": 95,
   "metadata": {},
   "outputs": [
    {
     "data": {
      "image/png": "[encoded data removed]",
      "text/plain": [
       "<Figure size 432x288 with 1 Axes>"
      ]
     },
     "execution_count": 95,
     "metadata": {},
     "output_type": "execute_result"
    },
    {
     "data": {
      "image/png": "[encoded data removed]",
      "text/plain": [
       "<Figure size 432x288 with 1 Axes>"
      ]
     },
     "metadata": {
      "needs_background": "light"
     },
     "output_type": "display_data"
    }
   ],
   "source": [
    "# Getting test predictions\n",
    "test_preds_ow = lm2_ow.predict(x_test_ow)\n",
    "\n",
    "# Calculating residuals\n",
    "residuals_ow2 = np.exp(test_preds_ow) - y_test_ow_sqrt\n",
    "\n",
    "# Making QQ-plot of the residuals\n",
    "sm.qqplot(residuals_ow2,line=\"s\")"
   ]
  },
  {
   "cell_type": "code",
   "execution_count": 96,
   "metadata": {},
   "outputs": [
    {
     "data": {
      "text/plain": [
       "4.192091888010598e+17"
      ]
     },
     "execution_count": 96,
     "metadata": {},
     "output_type": "execute_result"
    }
   ],
   "source": [
    "#Calculate the MAPE: On average, the square root transformed linear model is WAY off in predicting our sale price (Yikes again!)\n",
    "lm2_sqrtow_mape = np.mean(100 * abs(residuals_ow2/y_test_ow_sqrt))\n",
    "lm2_sqrtow_mape"
   ]
  },
  {
   "cell_type": "markdown",
   "metadata": {},
   "source": [
    "Based on the results above, we fail to meet the normality assumption even with transformations to the target. We can try using a different model that does not have those same strict assumptions that linear regression does"
   ]
  },
  {
   "cell_type": "markdown",
   "metadata": {},
   "source": [
    "### Random Forest Model for Yeezy and Off-White "
   ]
  },
  {
   "cell_type": "code",
   "execution_count": 97,
   "metadata": {},
   "outputs": [],
   "source": [
    "# Need to split our test into a validation as well to avoid overfitting issues\n",
    "x_test_yeezy_rf, x_valid_yeezy_rf, y_test_yeezy_rf, y_valid_yeezy_rf = train_test_split(x_test_yeezy,y_test_yeezy,test_size = 0.5)\n",
    "x_test_ow_rf, x_valid_ow_rf, y_test_ow_rf, y_valid_ow_rf = train_test_split(x_test_ow,y_test_ow,test_size = 0.5)"
   ]
  },
  {
   "cell_type": "markdown",
   "metadata": {},
   "source": [
    "We want to tune a few hyperparameters for our random forest to try and produce the most accurate results on our data. We will conduct separate tuning for yeezy and off-white data as the hyperparameters may vary."
   ]
  },
  {
   "cell_type": "code",
   "execution_count": 98,
   "metadata": {},
   "outputs": [
    {
     "name": "stdout",
     "output_type": "stream",
     "text": [
      "[13.595169599077977, 13.596143613795304, 13.596442144837114, 13.595714142846242, 13.595549979902968, 13.595389939321066, 13.595292857380736, 13.595904983220295, 13.595900790032633]\n"
     ]
    }
   ],
   "source": [
    "# Starting with tuning the number of estimators hyper parameter and basing it off of the best MAPE value (yeezy)\n",
    "n_estimators = [5, 10, 50, 100, 200, 350, 500, 800, 1000]\n",
    "mape_results = []\n",
    "\n",
    "for estimator in n_estimators:\n",
    "    rf = RandomForestRegressor(n_estimators=estimator, random_state=50)\n",
    "    rf.fit(x_train_yeezy, y_train_yeezy)\n",
    "    valid_pred = rf.predict(x_valid_yeezy_rf)\n",
    "    valid_error = valid_pred - y_valid_yeezy_rf\n",
    "    mape = np.mean(100 * abs((valid_error/valid_pred)))\n",
    "    mape_results.append(mape)\n",
    "\n",
    "print(mape_results)"
   ]
  },
  {
   "cell_type": "code",
   "execution_count": 99,
   "metadata": {},
   "outputs": [
    {
     "name": "stdout",
     "output_type": "stream",
     "text": [
      "[13.905914512575896, 13.90486086927256, 13.907859406977522, 13.907112276767505, 13.90852810186775, 13.908335648577294, 13.908051870027723, 13.907892617840544, 13.90775591973557]\n"
     ]
    }
   ],
   "source": [
    "# Starting with tuning the number of estimators hyper parameter and basing it off of the best MAPE value (off white)\n",
    "n_estimators = [5, 10, 50, 100, 200, 350, 500, 800, 1000]\n",
    "mape_results = []\n",
    "\n",
    "for estimator in n_estimators:\n",
    "    rf = RandomForestRegressor(n_estimators=estimator, random_state=50)\n",
    "    rf.fit(x_train_ow, y_train_ow)\n",
    "    valid_pred = rf.predict(x_valid_ow_rf)\n",
    "    valid_error = valid_pred - y_valid_ow_rf\n",
    "    mape = np.mean(100 * abs((valid_error/valid_pred)))\n",
    "    mape_results.append(mape)\n",
    "\n",
    "print(mape_results)"
   ]
  },
  {
   "cell_type": "code",
   "execution_count": 100,
   "metadata": {},
   "outputs": [
    {
     "name": "stdout",
     "output_type": "stream",
     "text": [
      "[16.892999097082107, 13.595714142846242, 13.595714142846242, 13.595714142846242, 13.595714142846242, 13.595714142846242, 13.595714142846242]\n"
     ]
    }
   ],
   "source": [
    "# Now we can tune the max depth hyper parameter and base it off best MAPE value (yeezy)\n",
    "max_depth = [5, 10, 25, 40, 50, 75, 100]\n",
    "mape_results = []\n",
    "\n",
    "for depth in max_depth:\n",
    "    rf = RandomForestRegressor(max_depth=depth, random_state=50)\n",
    "    rf.fit(x_train_yeezy, y_train_yeezy)\n",
    "    valid_pred = rf.predict(x_valid_yeezy_rf)\n",
    "    valid_error = valid_pred - y_valid_yeezy_rf\n",
    "    mape = np.mean(100 * abs((valid_error/valid_pred)))\n",
    "    mape_results.append(mape)\n",
    "\n",
    "print(mape_results)"
   ]
  },
  {
   "cell_type": "code",
   "execution_count": 101,
   "metadata": {},
   "outputs": [
    {
     "name": "stdout",
     "output_type": "stream",
     "text": [
      "[15.212298939451617, 13.99441400623699, 13.907112276767505, 13.907112276767505, 13.907112276767505, 13.907112276767505, 13.907112276767505]\n"
     ]
    }
   ],
   "source": [
    "# Now we can tune the max depth hyper parameter and base it off best MAPE (off-white)\n",
    "max_depth = [5, 10, 25, 40, 50, 75, 100]\n",
    "mape_results = []\n",
    "\n",
    "for depth in max_depth:\n",
    "    rf = RandomForestRegressor(max_depth=depth, random_state=50)\n",
    "    rf.fit(x_train_ow, y_train_ow)\n",
    "    valid_pred = rf.predict(x_valid_ow_rf)\n",
    "    valid_error = valid_pred - y_valid_ow_rf\n",
    "    mape = np.mean(100 * abs((valid_error/valid_pred)))\n",
    "    mape_results.append(mape)\n",
    "\n",
    "print(mape_results)"
   ]
  },
  {
   "cell_type": "code",
   "execution_count": 102,
   "metadata": {},
   "outputs": [
    {
     "name": "stdout",
     "output_type": "stream",
     "text": [
      "[13.595714142846242, 13.595714142846242, 13.595714142846242, 13.595714142846242, 13.595714142846242]\n"
     ]
    }
   ],
   "source": [
    "# Lastly, we can tune our max features hyper parameter to determine the best MAPE value (yeezy)\n",
    "max_features = ['auto', 'sqrt', 0.2, 0.5, 0.75]\n",
    "mape_results = []\n",
    "\n",
    "for feat in max_features:\n",
    "    rf = RandomForestRegressor(max_features=feat, random_state=50)\n",
    "    rf.fit(x_train_yeezy, y_train_yeezy)\n",
    "    valid_pred = rf.predict(x_valid_yeezy_rf)\n",
    "    valid_error = valid_pred - y_valid_yeezy_rf\n",
    "    mape = np.mean(100 * abs((valid_error/valid_pred)))\n",
    "    mape_results.append(mape)\n",
    "\n",
    "print(mape_results)"
   ]
  },
  {
   "cell_type": "code",
   "execution_count": 103,
   "metadata": {},
   "outputs": [
    {
     "name": "stdout",
     "output_type": "stream",
     "text": [
      "[13.907112276767505, 13.907112276767505, 13.907112276767505, 13.907112276767505, 13.907112276767505]\n"
     ]
    }
   ],
   "source": [
    "# Lastly, we can tune our max features hyper parameter to determine the best MAPE value (off-white)\n",
    "max_features = ['auto', 'sqrt', 0.2, 0.5, 0.75]\n",
    "mape_results = []\n",
    "\n",
    "for feat in max_features:\n",
    "    rf = RandomForestRegressor(max_features=feat, random_state=50)\n",
    "    rf.fit(x_train_ow, y_train_ow)\n",
    "    valid_pred = rf.predict(x_valid_ow_rf)\n",
    "    valid_error = valid_pred - y_valid_ow_rf\n",
    "    mape = np.mean(100 * abs((valid_error/valid_pred)))\n",
    "    mape_results.append(mape)\n",
    "\n",
    "print(mape_results)"
   ]
  },
  {
   "cell_type": "markdown",
   "metadata": {},
   "source": [
    "## Random Forest Model with Tuned Hyperparameters"
   ]
  },
  {
   "cell_type": "code",
   "execution_count": 104,
   "metadata": {},
   "outputs": [
    {
     "data": {
      "text/plain": [
       "RandomForestRegressor(max_depth=10, n_estimators=350, random_state=50)"
      ]
     },
     "execution_count": 104,
     "metadata": {},
     "output_type": "execute_result"
    }
   ],
   "source": [
    "# Import the model we are using\n",
    "from sklearn.ensemble import RandomForestRegressor\n",
    "\n",
    "# Create model with our optimal hyperparams\n",
    "rf_yeezy = RandomForestRegressor(n_estimators = 350, max_depth= 10, max_features='auto', random_state = 50)\n",
    "\n",
    "# Fit the model on training data\n",
    "rf_yeezy.fit(x_train_yeezy, y_train_yeezy)"
   ]
  },
  {
   "cell_type": "code",
   "execution_count": 105,
   "metadata": {},
   "outputs": [
    {
     "data": {
      "text/plain": [
       "RandomForestRegressor(max_depth=25, random_state=50)"
      ]
     },
     "execution_count": 105,
     "metadata": {},
     "output_type": "execute_result"
    }
   ],
   "source": [
    "# Import the model we are using\n",
    "from sklearn.ensemble import RandomForestRegressor\n",
    "\n",
    "# Create model with our optimal hyperparams\n",
    "rf_ow = RandomForestRegressor(n_estimators = 100, max_depth = 25, max_features='auto', random_state = 50)\n",
    "\n",
    "# Fit the model on training data\n",
    "rf_ow.fit(x_train_ow, y_train_ow)"
   ]
  },
  {
   "cell_type": "code",
   "execution_count": 106,
   "metadata": {},
   "outputs": [
    {
     "data": {
      "text/plain": [
       "13.595389939321066"
      ]
     },
     "execution_count": 106,
     "metadata": {},
     "output_type": "execute_result"
    }
   ],
   "source": [
    "# Generating predictions and MAPE from our random forest on yeezy validation data\n",
    "valid_pred = rf_yeezy.predict(x_valid_yeezy_rf)\n",
    "valid_error = valid_pred - y_valid_yeezy_rf\n",
    "valid_mape = np.mean(100 * abs((valid_error/valid_pred)))\n",
    "valid_mape"
   ]
  },
  {
   "cell_type": "code",
   "execution_count": 107,
   "metadata": {},
   "outputs": [
    {
     "data": {
      "text/plain": [
       "13.907112276767505"
      ]
     },
     "execution_count": 107,
     "metadata": {},
     "output_type": "execute_result"
    }
   ],
   "source": [
    "# Generating predictions and MAPE from our random forest on off-white validation data\n",
    "valid_pred = rf.predict(x_valid_ow_rf)\n",
    "valid_error = valid_pred - y_valid_ow_rf\n",
    "valid_mape = np.mean(100 * abs((valid_error/valid_pred)))\n",
    "valid_mape"
   ]
  },
  {
   "cell_type": "markdown",
   "metadata": {},
   "source": [
    "Based on our MAPEs from the linear regression models, we have obtained a smaller MAPE for both the yeezy and off-white data using a random forest model. So far, these are our best candidates."
   ]
  },
  {
   "cell_type": "markdown",
   "metadata": {},
   "source": [
    "### Get Feature Importance from Random Forest Models"
   ]
  },
  {
   "cell_type": "code",
   "execution_count": 108,
   "metadata": {},
   "outputs": [
    {
     "name": "stdout",
     "output_type": "stream",
     "text": [
      "Variable: Color_Black Importance: 0.48\n",
      "Variable: Release Month_September Importance: 0.1\n",
      "Variable: Yeezy_V2 Importance: 0.09\n",
      "Variable: Retail Price Importance: 0.08\n",
      "Variable: Release Month_June Importance: 0.08\n",
      "Variable: Release Month_April Importance: 0.06\n",
      "Variable: Release_Day_Friday Importance: 0.04\n",
      "Variable: Release_Day_Thursday Importance: 0.04\n",
      "Variable: Release_Day_Saturday Importance: 0.02\n",
      "Variable: Release_Day_Wednesday Importance: 0.02\n",
      "Variable: Release Month_November Importance: 0.01\n",
      "Variable: Color_Blue Importance: 0.0\n",
      "Variable: Release_Day_Tuesday Importance: 0.0\n",
      "Variable: Release Month_August Importance: 0.0\n",
      "Variable: Release Month_December Importance: 0.0\n",
      "Variable: Release Month_February Importance: 0.0\n"
     ]
    },
    {
     "data": {
      "text/plain": [
       "[None,\n",
       " None,\n",
       " None,\n",
       " None,\n",
       " None,\n",
       " None,\n",
       " None,\n",
       " None,\n",
       " None,\n",
       " None,\n",
       " None,\n",
       " None,\n",
       " None,\n",
       " None,\n",
       " None,\n",
       " None]"
      ]
     },
     "execution_count": 108,
     "metadata": {},
     "output_type": "execute_result"
    }
   ],
   "source": [
    "# Before we get the final pred on the test data we can get a sense of feature importance as well\n",
    "feature_list = list(x_train_yeezy.columns)\n",
    "\n",
    "# Get numerical feature importances\n",
    "importances = list(rf_yeezy.feature_importances_)\n",
    "\n",
    "# List of tuples with each variable and importance\n",
    "feature_importances = [(feature, round(importance, 2)) for feature, importance in zip(feature_list, importances)]\n",
    "\n",
    "# Sort the feature importances by most important first\n",
    "feature_importances = sorted(feature_importances, key = lambda x: x[1], reverse = True)\n",
    "\n",
    "# Print out the feature and importances \n",
    "[print('Variable: {} Importance: {}'.format(*pair)) for pair in feature_importances]"
   ]
  },
  {
   "cell_type": "code",
   "execution_count": 109,
   "metadata": {},
   "outputs": [
    {
     "name": "stdout",
     "output_type": "stream",
     "text": [
      "Variable: Jordan_1 Importance: 0.37\n",
      "Variable: Color_Blue Importance: 0.16\n",
      "Variable: Zoom_Fly Importance: 0.15\n",
      "Variable: Release Month_June Importance: 0.15\n",
      "Variable: Release Month_September Importance: 0.06\n",
      "Variable: Presto Importance: 0.04\n",
      "Variable: Release Month_December Importance: 0.02\n",
      "Variable: Retail Price Importance: 0.01\n",
      "Variable: Release Month_July Importance: 0.01\n",
      "Variable: Color_Black Importance: 0.0\n",
      "Variable: Air_Max Importance: 0.0\n",
      "Variable: Blazer Importance: 0.0\n",
      "Variable: Air_Force Importance: 0.0\n",
      "Variable: Release_Day_Friday Importance: 0.0\n",
      "Variable: Release_Day_Saturday Importance: 0.0\n",
      "Variable: Release_Day_Thursday Importance: 0.0\n",
      "Variable: Release_Day_Wednesday Importance: 0.0\n",
      "Variable: Release Month_April Importance: 0.0\n",
      "Variable: Release Month_August Importance: 0.0\n",
      "Variable: Release Month_February Importance: 0.0\n",
      "Variable: Release Month_March Importance: 0.0\n",
      "Variable: Release Month_November Importance: 0.0\n",
      "Variable: Release Month_October Importance: 0.0\n"
     ]
    },
    {
     "data": {
      "text/plain": [
       "[None,\n",
       " None,\n",
       " None,\n",
       " None,\n",
       " None,\n",
       " None,\n",
       " None,\n",
       " None,\n",
       " None,\n",
       " None,\n",
       " None,\n",
       " None,\n",
       " None,\n",
       " None,\n",
       " None,\n",
       " None,\n",
       " None,\n",
       " None,\n",
       " None,\n",
       " None,\n",
       " None,\n",
       " None,\n",
       " None]"
      ]
     },
     "execution_count": 109,
     "metadata": {},
     "output_type": "execute_result"
    }
   ],
   "source": [
    "# Before we get final pred on the test data we can get a sense of feature importance as well\n",
    "feature_list = list(x_train_ow.columns)\n",
    "\n",
    "# Get numerical feature importances\n",
    "importances = list(rf_ow.feature_importances_)\n",
    "\n",
    "# List of tuples with variable and importance\n",
    "feature_importances = [(feature, round(importance, 2)) for feature, importance in zip(feature_list, importances)]\n",
    "\n",
    "# Sort the feature importances by most important first\n",
    "feature_importances = sorted(feature_importances, key = lambda x: x[1], reverse = True)\n",
    "\n",
    "# Print out the feature and importances \n",
    "[print('Variable: {} Importance: {}'.format(*pair)) for pair in feature_importances]"
   ]
  },
  {
   "cell_type": "markdown",
   "metadata": {},
   "source": [
    "### Rerun of our Random Forest Models with Subsetted Features"
   ]
  },
  {
   "cell_type": "code",
   "execution_count": 110,
   "metadata": {},
   "outputs": [
    {
     "data": {
      "text/plain": [
       "RandomForestRegressor(max_depth=10, n_estimators=350, random_state=50)"
      ]
     },
     "execution_count": 110,
     "metadata": {},
     "output_type": "execute_result"
    }
   ],
   "source": [
    "# Create the model with our tuned hyperparams\n",
    "rf_yeezy_important = RandomForestRegressor(n_estimators = 350, max_depth= 10, max_features='auto', random_state = 50)\n",
    "\n",
    "# Create the dataframes with only our important features\n",
    "x_train_yeezy_imp = x_train_yeezy.drop(columns=['Color_Blue', 'Release_Day_Tuesday', 'Release Month_August', 'Release Month_December', 'Release Month_February'])\n",
    "x_valid_yeezy_rf_imp = x_valid_yeezy_rf.drop(columns=['Color_Blue', 'Release_Day_Tuesday', 'Release Month_August', 'Release Month_December', 'Release Month_February'])\n",
    "\n",
    "# Fit the model on training data\n",
    "rf_yeezy_important.fit(x_train_yeezy_imp, y_train_yeezy)"
   ]
  },
  {
   "cell_type": "code",
   "execution_count": 111,
   "metadata": {},
   "outputs": [
    {
     "data": {
      "text/plain": [
       "13.70490817441715"
      ]
     },
     "execution_count": 111,
     "metadata": {},
     "output_type": "execute_result"
    }
   ],
   "source": [
    "# Generating predictions from our random forest with only important features on yeezy valid data\n",
    "valid_pred = rf_yeezy_important.predict(x_valid_yeezy_rf_imp)\n",
    "valid_error = valid_pred - y_valid_yeezy_rf\n",
    "valid_mape = np.mean(100 * abs((valid_error/valid_pred)))\n",
    "valid_mape"
   ]
  },
  {
   "cell_type": "code",
   "execution_count": 112,
   "metadata": {},
   "outputs": [
    {
     "data": {
      "text/plain": [
       "RandomForestRegressor(max_depth=25, random_state=50)"
      ]
     },
     "execution_count": 112,
     "metadata": {},
     "output_type": "execute_result"
    }
   ],
   "source": [
    "# Create the model with our tuned hyperparams\n",
    "rf_ow_important = RandomForestRegressor(n_estimators = 100, max_depth = 25, max_features='auto', random_state = 50)\n",
    "\n",
    "# Create the dataframes with only our important features\n",
    "x_train_ow_imp = x_train_ow.drop(columns=['Color_Black', 'Air_Max', 'Blazer', 'Air_Force', 'Release_Day_Friday', 'Release_Day_Saturday', 'Release_Day_Thursday', 'Release_Day_Wednesday', 'Release Month_April', 'Release Month_August', 'Release Month_February', 'Release Month_March', 'Release Month_November', 'Release Month_October'])\n",
    "x_valid_ow_rf_imp = x_valid_ow_rf.drop(columns=['Color_Black', 'Air_Max', 'Blazer', 'Air_Force', 'Release_Day_Friday', 'Release_Day_Saturday', 'Release_Day_Thursday', 'Release_Day_Wednesday', 'Release Month_April', 'Release Month_August', 'Release Month_February', 'Release Month_March', 'Release Month_November', 'Release Month_October'])\n",
    "\n",
    "# Fit the model on training data\n",
    "rf_ow_important.fit(x_train_ow_imp, y_train_ow)"
   ]
  },
  {
   "cell_type": "code",
   "execution_count": 113,
   "metadata": {},
   "outputs": [
    {
     "data": {
      "text/plain": [
       "15.071430583524059"
      ]
     },
     "execution_count": 113,
     "metadata": {},
     "output_type": "execute_result"
    }
   ],
   "source": [
    "# Generating predictions from our random forest with only important features on off-white valid data\n",
    "valid_pred = rf_ow_important.predict(x_valid_ow_rf_imp)\n",
    "valid_error = valid_pred - y_valid_ow_rf\n",
    "valid_mape = np.mean(100 * abs((valid_error/valid_pred)))\n",
    "valid_mape"
   ]
  },
  {
   "cell_type": "markdown",
   "metadata": {},
   "source": [
    "So far, our best MAPEs are still from the full random forest model with the tuned hyperparameters. Although the subsetted random forest model did not produce a better MAPE, we can still keep what features were important in mind."
   ]
  },
  {
   "cell_type": "code",
   "execution_count": 114,
   "metadata": {},
   "outputs": [
    {
     "data": {
      "text/plain": [
       "13.738542997770951"
      ]
     },
     "execution_count": 114,
     "metadata": {},
     "output_type": "execute_result"
    }
   ],
   "source": [
    "# Test MAPE for yeezy data\n",
    "test_pred = rf_yeezy.predict(x_test_yeezy_rf)\n",
    "test_error = test_pred - y_test_yeezy_rf\n",
    "test_mape = np.mean(100 * abs((test_error/test_pred)))\n",
    "test_mape"
   ]
  },
  {
   "cell_type": "code",
   "execution_count": 115,
   "metadata": {},
   "outputs": [
    {
     "data": {
      "text/plain": [
       "13.798278776045192"
      ]
     },
     "execution_count": 115,
     "metadata": {},
     "output_type": "execute_result"
    }
   ],
   "source": [
    "# Test MAPE for off-white data\n",
    "test_pred = rf_ow.predict(x_test_ow_rf)\n",
    "test_error = test_pred - y_test_ow_rf\n",
    "test_mape = np.mean(100 * abs((test_error/test_pred)))\n",
    "test_mape"
   ]
  },
  {
   "cell_type": "markdown",
   "metadata": {},
   "source": [
    "## Using our final Random Forest Models on newly obtained data"
   ]
  },
  {
   "cell_type": "markdown",
   "metadata": {},
   "source": [
    "Although our test data gives us an indication of how our model would perform on new data, I collected a few new observations based on yeezy shoes that had come out after our original data was recorded. I added in a column for the range of prices that the particular shoe sold for on StockX to see if our model would predict the price of each shoe in the actual range it sold for. There were not many off-white collabs similar to the data we originally had, so we will only be conducting this step for the yeezy model."
   ]
  },
  {
   "cell_type": "code",
   "execution_count": 116,
   "metadata": {},
   "outputs": [],
   "source": [
    "# Set our working directory and pull in the new \n",
    "os.chdir(\"C:\\\\Users\\\\jorda\\\\OneDrive\\\\Documents\\\\IAA Files and Documents\\\\Side Project Files\\\\StockX\")\n",
    "yeezy_new = pd.read_excel(\"new_data.xlsx\", sheet_name = 'Yeezy')"
   ]
  },
  {
   "cell_type": "code",
   "execution_count": 117,
   "metadata": {},
   "outputs": [],
   "source": [
    "# Dropping the columns that we do not need in the model\n",
    "y_new = yeezy_new.drop(columns=['Shoe Name', 'Brand', 'Range of Prices'])"
   ]
  },
  {
   "cell_type": "code",
   "execution_count": 118,
   "metadata": {},
   "outputs": [],
   "source": [
    "# Get dummy values for our categorical variables\n",
    "y_new = pd.get_dummies(y_new)"
   ]
  },
  {
   "cell_type": "code",
   "execution_count": 119,
   "metadata": {},
   "outputs": [
    {
     "data": {
      "text/plain": [
       "RandomForestRegressor(max_depth=10, n_estimators=350, random_state=50)"
      ]
     },
     "execution_count": 119,
     "metadata": {},
     "output_type": "execute_result"
    }
   ],
   "source": [
    "# Fit our random forest model to all of our original data\n",
    "rf_final_yeezy = RandomForestRegressor(n_estimators = 350, max_depth= 10, max_features='auto', random_state = 50)\n",
    "\n",
    "# Fit the model on our original data (all combined)\n",
    "rf_final_yeezy.fit(x_yeezy, y_yeezy)"
   ]
  },
  {
   "cell_type": "code",
   "execution_count": 120,
   "metadata": {},
   "outputs": [],
   "source": [
    "# Generate predictions on our new data\n",
    "yeezy_new_pred = rf_final_yeezy.predict(y_new)"
   ]
  },
  {
   "cell_type": "code",
   "execution_count": 121,
   "metadata": {},
   "outputs": [
    {
     "data": {
      "text/html": [
       "<div>\n",
       "<style scoped>\n",
       "    .dataframe tbody tr th:only-of-type {\n",
       "        vertical-align: middle;\n",
       "    }\n",
       "\n",
       "    .dataframe tbody tr th {\n",
       "        vertical-align: top;\n",
       "    }\n",
       "\n",
       "    .dataframe thead th {\n",
       "        text-align: right;\n",
       "    }\n",
       "</style>\n",
       "<table border=\"1\" class=\"dataframe\">\n",
       "  <thead>\n",
       "    <tr style=\"text-align: right;\">\n",
       "      <th></th>\n",
       "      <th>Shoe Name</th>\n",
       "      <th>Predicted</th>\n",
       "      <th>Actual Range</th>\n",
       "    </tr>\n",
       "  </thead>\n",
       "  <tbody>\n",
       "    <tr>\n",
       "      <th>0</th>\n",
       "      <td>Glow in the dark</td>\n",
       "      <td>468.185317</td>\n",
       "      <td>573-749</td>\n",
       "    </tr>\n",
       "    <tr>\n",
       "      <th>1</th>\n",
       "      <td>Black Reflective</td>\n",
       "      <td>763.496344</td>\n",
       "      <td>961-1223</td>\n",
       "    </tr>\n",
       "    <tr>\n",
       "      <th>2</th>\n",
       "      <td>Black Non Reflective</td>\n",
       "      <td>763.496344</td>\n",
       "      <td>464-512</td>\n",
       "    </tr>\n",
       "    <tr>\n",
       "      <th>3</th>\n",
       "      <td>Antlia</td>\n",
       "      <td>269.758988</td>\n",
       "      <td>373-469</td>\n",
       "    </tr>\n",
       "    <tr>\n",
       "      <th>4</th>\n",
       "      <td>Syth</td>\n",
       "      <td>269.758988</td>\n",
       "      <td>234-684</td>\n",
       "    </tr>\n",
       "    <tr>\n",
       "      <th>5</th>\n",
       "      <td>Cloud White</td>\n",
       "      <td>788.625954</td>\n",
       "      <td>318-452</td>\n",
       "    </tr>\n",
       "    <tr>\n",
       "      <th>6</th>\n",
       "      <td>Citrin</td>\n",
       "      <td>788.625954</td>\n",
       "      <td>140-332</td>\n",
       "    </tr>\n",
       "    <tr>\n",
       "      <th>7</th>\n",
       "      <td>Yeezrell Reflective</td>\n",
       "      <td>468.185317</td>\n",
       "      <td>281-339</td>\n",
       "    </tr>\n",
       "    <tr>\n",
       "      <th>8</th>\n",
       "      <td>Yeezrell Non Reflective</td>\n",
       "      <td>287.056282</td>\n",
       "      <td>243-317</td>\n",
       "    </tr>\n",
       "    <tr>\n",
       "      <th>9</th>\n",
       "      <td>Yecheil</td>\n",
       "      <td>264.786290</td>\n",
       "      <td>361-457</td>\n",
       "    </tr>\n",
       "    <tr>\n",
       "      <th>10</th>\n",
       "      <td>Marsh</td>\n",
       "      <td>286.599756</td>\n",
       "      <td>231-279</td>\n",
       "    </tr>\n",
       "    <tr>\n",
       "      <th>11</th>\n",
       "      <td>Earth</td>\n",
       "      <td>286.599756</td>\n",
       "      <td>362-408</td>\n",
       "    </tr>\n",
       "    <tr>\n",
       "      <th>12</th>\n",
       "      <td>Flax</td>\n",
       "      <td>286.599756</td>\n",
       "      <td>411-535</td>\n",
       "    </tr>\n",
       "    <tr>\n",
       "      <th>13</th>\n",
       "      <td>Tail light</td>\n",
       "      <td>286.599756</td>\n",
       "      <td>420-472</td>\n",
       "    </tr>\n",
       "    <tr>\n",
       "      <th>14</th>\n",
       "      <td>Linen</td>\n",
       "      <td>288.168924</td>\n",
       "      <td>337-463</td>\n",
       "    </tr>\n",
       "    <tr>\n",
       "      <th>15</th>\n",
       "      <td>Israfil</td>\n",
       "      <td>286.599756</td>\n",
       "      <td>224-282</td>\n",
       "    </tr>\n",
       "  </tbody>\n",
       "</table>\n",
       "</div>"
      ],
      "text/plain": [
       "                  Shoe Name   Predicted Actual Range\n",
       "0          Glow in the dark  468.185317      573-749\n",
       "1          Black Reflective  763.496344     961-1223\n",
       "2      Black Non Reflective  763.496344      464-512\n",
       "3                    Antlia  269.758988      373-469\n",
       "4                      Syth  269.758988      234-684\n",
       "5               Cloud White  788.625954      318-452\n",
       "6                    Citrin  788.625954      140-332\n",
       "7       Yeezrell Reflective  468.185317      281-339\n",
       "8   Yeezrell Non Reflective  287.056282      243-317\n",
       "9                   Yecheil  264.786290      361-457\n",
       "10                    Marsh  286.599756      231-279\n",
       "11                    Earth  286.599756      362-408\n",
       "12                     Flax  286.599756      411-535\n",
       "13               Tail light  286.599756      420-472\n",
       "14                    Linen  288.168924      337-463\n",
       "15                  Israfil  286.599756      224-282"
      ]
     },
     "execution_count": 121,
     "metadata": {},
     "output_type": "execute_result"
    }
   ],
   "source": [
    "# Output the models predicted values and the actual range of the observations from StockX\n",
    "Assesment_Yeezy = pd.DataFrame({'Shoe Name':yeezy_new['Shoe Name'], 'Predicted':yeezy_new_pred, 'Actual Range':yeezy_new['Range of Prices']})\n",
    "Assesment_Yeezy"
   ]
  },
  {
   "cell_type": "markdown",
   "metadata": {},
   "source": [
    "## 4. Final Conclusions"
   ]
  },
  {
   "cell_type": "markdown",
   "metadata": {},
   "source": [
    "In conclusion, we found that our random forest models with all features included produced the lowest MAPE value for both the Yeezy and Off-White data. Even though they were lower, our model predictions are still about 14% off from the true value. By looking at our predicted vs actual range list above, we can see the model only predicted 5 out of the 16 observations in the correct range of sale prices. \n",
    "\n",
    "Further feature engineering may be necessary in order to help the model learn the differences in certain shoes, such as different colorways, how \"hype\" the shoe is before it releases, and reflective vs non reflective shoes. For example, looking at the table above we can see that the Black Reflective and Black Non Reflective were predicted to be the same price but the Non Reflective shoes went for way less than the Reflective shoes. By adding in extra features, it could help the model learn to differentiate between these type of shoes and give more accurate prices.\n",
    "\n",
    "Some of the most important features, based on our random forest models, that influence sale price of shoes were the color black in the title of the shoe name and whether the shoe was a V2 or not for Yeezys and the color blue in the title of the shoe name and whether the shoe was a Jordan 1 or not for Off-Whites.\n",
    "\n",
    "All in all, this was an extremely fun project to work on to test my skills and see if I could derive any results from an area of interest! This project could be further developed to produce even more accurate predictions but would require more data collection, that is hard to obtain from StockX, or a new target for the project could be used. The possibilities are endless!"
   ]
  },
  {
   "cell_type": "markdown",
   "metadata": {},
   "source": [
    "<b>Created by: Jordan Strickland, jmstric5@ncsu.edu<b>"
   ]
  }
 ],
 "metadata": {
  "kernelspec": {
   "display_name": "Python 3",
   "language": "python",
   "name": "python3"
  },
  "language_info": {
   "codemirror_mode": {
    "name": "ipython",
    "version": 3
   },
   "file_extension": ".py",
   "mimetype": "text/x-python",
   "name": "python",
   "nbconvert_exporter": "python",
   "pygments_lexer": "ipython3",
   "version": "3.7.6"
  }
 },
 "nbformat": 4,
 "nbformat_minor": 4
}
